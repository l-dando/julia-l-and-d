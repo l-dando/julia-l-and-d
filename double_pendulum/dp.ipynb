{
 "cells": [
  {
   "cell_type": "code",
   "execution_count": 1,
   "metadata": {},
   "outputs": [
    {
     "name": "stderr",
     "output_type": "stream",
     "text": [
      "\u001b[32m\u001b[1m  Activating\u001b[22m\u001b[39m project at `C:\\Users\\luked\\.julia\\environments\\dp`\n"
     ]
    }
   ],
   "source": [
    "using Pkg\n",
    "Pkg.activate(\"dp\", shared=true)"
   ]
  },
  {
   "cell_type": "code",
   "execution_count": 2,
   "metadata": {},
   "outputs": [],
   "source": [
    "using DynamicalSystems\n",
    "using OrdinaryDiffEq\n",
    "using GLMakie\n",
    "using DataStructures: CircularBuffer"
   ]
  },
  {
   "cell_type": "code",
   "execution_count": 3,
   "metadata": {},
   "outputs": [],
   "source": [
    "#o = Observable(1)\n",
    "#\n",
    "#l1 = on(o) do val\n",
    "#    println(\"Observable now has a value $val\")\n",
    "#end\n",
    "#\n",
    "#o[] = 2"
   ]
  },
  {
   "cell_type": "code",
   "execution_count": 4,
   "metadata": {},
   "outputs": [
    {
     "data": {
      "text/plain": [
       "4-dimensional CoupledODEs\n",
       " deterministic: true\n",
       " discrete time: false\n",
       " in-place:      false\n",
       " dynamic rule:  doublependulum_rule\n",
       " ODE solver:    Tsit5\n",
       " ODE kwargs:    (abstol = 1.0e-6, reltol = 1.0e-6)\n",
       " parameters:    [10.0, 1.0, 0.9, 1.0, 1.0]\n",
       " time:          0.0\n",
       " state:         [1.0471975511965976, 0.0, 2.356194490192345, -2.0]\n"
      ]
     },
     "metadata": {},
     "output_type": "display_data"
    }
   ],
   "source": [
    "const L1 = 1.0\n",
    "const L2 = 0.9\n",
    "M = 2\n",
    "u0 = [π/3, 0, 3π/4, -2]\n",
    "dp = Systems.double_pendulum(u0; L1, L2)"
   ]
  },
  {
   "cell_type": "code",
   "execution_count": 5,
   "metadata": {},
   "outputs": [
    {
     "data": {
      "text/plain": [
       "t: 0.0\n",
       "u: 4-element SVector{4, Float64} with indices SOneTo(4):\n",
       "  1.0471975511965976\n",
       "  0.0\n",
       "  2.356194490192345\n",
       " -2.0"
      ]
     },
     "metadata": {},
     "output_type": "display_data"
    }
   ],
   "source": [
    "diffeq = (alg=Tsit5(), adaptive=false, dt=0.005)\n",
    "\n",
    "integ = dp.integ"
   ]
  },
  {
   "cell_type": "code",
   "execution_count": 8,
   "metadata": {},
   "outputs": [
    {
     "data": {
      "text/plain": [
       "xycoords (generic function with 1 method)"
      ]
     },
     "metadata": {},
     "output_type": "display_data"
    }
   ],
   "source": [
    "function xycoords(state)\n",
    "    θ1 = state[1]\n",
    "    θ2 = state[3]\n",
    "    x1 = L1 * sin(θ1)\n",
    "    y1 = -L1 * cos(θ1)\n",
    "    x2 = x1 + L2 * sin(θ2)\n",
    "    y2 = y1 - L2 * cos(θ2)\n",
    "\n",
    "    return x1, x2, y1, y2\n",
    "end"
   ]
  },
  {
   "cell_type": "code",
   "execution_count": 9,
   "metadata": {},
   "outputs": [
    {
     "data": {
      "text/plain": [
       "progress_for_one_step! (generic function with 1 method)"
      ]
     },
     "metadata": {},
     "output_type": "display_data"
    }
   ],
   "source": [
    "function progress_for_one_step!(integ)\n",
    "    step!(integ)\n",
    "    \n",
    "    return xycoords(integ)\n",
    "end"
   ]
  },
  {
   "cell_type": "code",
   "execution_count": 10,
   "metadata": {},
   "outputs": [
    {
     "data": {
      "text/plain": [
       "Observable(Point{2, Float32}[[0.8660254, -0.5], [1.5024215, 0.13639611]])\n"
      ]
     },
     "metadata": {},
     "output_type": "display_data"
    }
   ],
   "source": [
    "x1, x2, y1, y2 = xycoords(u0)\n",
    "rod = Observable([Point2f(0, 0), Point2f(x1, y1), Point2f(x2, y2)])\n",
    "balls = Observable([Point2f(x1, y1), Point2f(x2, y2)])"
   ]
  },
  {
   "cell_type": "code",
   "execution_count": 11,
   "metadata": {},
   "outputs": [
    {
     "data": {
      "text/plain": [
       "Observable(Point{2, Float32}[[1.5024215, 0.13639611], [1.5024215, 0.13639611], [1.5024215, 0.13639611], [1.5024215, 0.13639611], [1.5024215, 0.13639611], [1.5024215, 0.13639611], [1.5024215, 0.13639611], [1.5024215, 0.13639611], [1.5024215, 0.13639611], [1.5024215, 0.13639611]  …  [1.5024215, 0.13639611], [1.5024215, 0.13639611], [1.5024215, 0.13639611], [1.5024215, 0.13639611], [1.5024215, 0.13639611], [1.5024215, 0.13639611], [1.5024215, 0.13639611], [1.5024215, 0.13639611], [1.5024215, 0.13639611], [1.5024215, 0.13639611]])\n"
      ]
     },
     "metadata": {},
     "output_type": "display_data"
    }
   ],
   "source": [
    "tail = 300\n",
    "\n",
    "traj = CircularBuffer{Point2f}(tail)\n",
    "fill!(traj, Point2f(x2, y2))\n",
    "traj = Observable(traj)"
   ]
  },
  {
   "cell_type": "code",
   "execution_count": 36,
   "metadata": {},
   "outputs": [
    {
     "data": {
      "text/plain": [
       "Axis with 0 plots:\n"
      ]
     },
     "metadata": {},
     "output_type": "display_data"
    }
   ],
   "source": [
    "fig = Figure(); display(fig)\n",
    "ax = Axis(fig[1,1])"
   ]
  },
  {
   "cell_type": "code",
   "execution_count": 13,
   "metadata": {},
   "outputs": [
    {
     "data": {
      "text/plain": [
       "Scatter{Tuple{Vector{Point{2, Float32}}}}"
      ]
     },
     "metadata": {},
     "output_type": "display_data"
    }
   ],
   "source": [
    "lines!(ax, rod; linewidth=4, color=:purple)\n",
    "scatter!(ax, balls; marker=:circle, strokewidth=2, strokecolor=:purple, color=:black, markersize=[8,12])"
   ]
  },
  {
   "cell_type": "code",
   "execution_count": 14,
   "metadata": {},
   "outputs": [
    {
     "data": {
      "text/plain": [
       "Lines{Tuple{CircularBuffer{Point{2, Float32}}}}"
      ]
     },
     "metadata": {},
     "output_type": "display_data"
    }
   ],
   "source": [
    "c = to_color(:purple)\n",
    "tailcol=[RGBAf(c.r, c.g, c.b, (i/tail)^2) for i in 1:tail]\n",
    "lines!(ax, traj; linewidth=3, color=tailcol)"
   ]
  },
  {
   "cell_type": "code",
   "execution_count": 35,
   "metadata": {},
   "outputs": [],
   "source": [
    "ax.title = \"Double Pendulum\"\n",
    "ax.aspect = DataAspect()\n",
    "l = 1.05(L1+L2)\n",
    "xlims!(ax, -l, l)\n",
    "ylims!(ax, -l, l)"
   ]
  },
  {
   "cell_type": "code",
   "execution_count": 17,
   "metadata": {},
   "outputs": [
    {
     "data": {
      "text/plain": [
       "animstep! (generic function with 1 method)"
      ]
     },
     "metadata": {},
     "output_type": "display_data"
    }
   ],
   "source": [
    "function animstep!(integ, rod, balls, traj)\n",
    "    x1, x2, y1, y2 = progress_for_one_step!(integ)\n",
    "    rod[] = [Point2f(0, 0), Point2f(x1,x1), Point2f(x2,y2)]\n",
    "    balls[] = [Point2f(x1,x1), Point2f(x2,y2)]\n",
    "    push!(traj[], Point2f(x2,y2))\n",
    "    traj[] = traj[]\n",
    "end"
   ]
  },
  {
   "cell_type": "code",
   "execution_count": 18,
   "metadata": {},
   "outputs": [],
   "source": [
    "#for i in 1:1000\n",
    "#    animstep!(integ, rod, balls, traj)\n",
    "#    sleep(0.001)\n",
    "#end"
   ]
  },
  {
   "cell_type": "code",
   "execution_count": 37,
   "metadata": {},
   "outputs": [
    {
     "data": {
      "text/plain": [
       "makefig (generic function with 1 method)"
      ]
     },
     "metadata": {},
     "output_type": "display_data"
    }
   ],
   "source": [
    "function makefig(u0)\n",
    "    dp = Systems.double_pendulum(u0; L1, L2)\n",
    "    integ = dp.integ\n",
    "    x1,x2,y1,y2 = xycoords(u0)\n",
    "    rod   = Observable([Point2f(0, 0), Point2f(x1, y1), Point2f(x2, y2)])\n",
    "    balls = Observable([Point2f(x1, y1), Point2f(x2, y2)])\n",
    "    traj = CircularBuffer{Point2f}(tail)\n",
    "    fill!(traj, Point2f(x2, y2)) # add correct values to the circular buffer\n",
    "    traj = Observable(traj) # make it an observable\n",
    "    fig = Figure(); display(fig)\n",
    "    ax = Axis(fig[1,1])\n",
    "    lines!(ax, rod; linewidth = 4, color = :purple)\n",
    "    scatter!(ax, balls; marker = :circle, strokewidth = 2, \n",
    "        strokecolor = :purple,\n",
    "        color = :black, markersize = [8, 12]\n",
    "    )\n",
    "    lines!(ax, traj; linewidth = 3, color = tailcol)\n",
    "    ax.title = \"Double Pendulum\"\n",
    "    ax.aspect = DataAspect()\n",
    "    l = 1.05(L1+L2)\n",
    "    xlims!(ax, -l, l)\n",
    "    ylims!(ax, -l, l)\n",
    "    # also return the figure object, we'll use it!\n",
    "    return fig, integ, rod, balls, traj\n",
    "end"
   ]
  },
  {
   "cell_type": "code",
   "execution_count": 20,
   "metadata": {},
   "outputs": [
    {
     "data": {
      "text/plain": [
       "\"dp_vid.mp4\""
      ]
     },
     "metadata": {},
     "output_type": "display_data"
    }
   ],
   "source": [
    "fig, integ, rod, balls, traj = makefig(u0)\n",
    "frames = 1:200\n",
    "record(fig, \"dp_vid.mp4\", frames; framerate=60) do i\n",
    "    for j in 1:5\n",
    "        animstep!(integ, rod, balls, traj)\n",
    "    end\n",
    "end"
   ]
  },
  {
   "cell_type": "code",
   "execution_count": 39,
   "metadata": {},
   "outputs": [
    {
     "data": {
      "text/plain": [
       "Observable(Float32[0.0, 0.0])\n"
      ]
     },
     "metadata": {},
     "output_type": "display_data"
    }
   ],
   "source": [
    "fig, integ, rod, balls, traj = makefig(u0)\n",
    "\n",
    "run = Button(fig[2,1]; label=\"Run\", tellwidth=false)\n",
    "\n",
    "isrunning = Observable(false)\n",
    "on(run.clicks) do clicks; isrunning[] = !isrunning[]; end\n",
    "on(run.clicks) do clicks\n",
    "    @async while isrunning[]\n",
    "        isopen(fig.scene) || break\n",
    "        animstep!(integ, rod, balls, traj)\n",
    "        sleep(0.001)\n",
    "    end\n",
    "end\n",
    "\n",
    "ax = content(fig[1,1])\n",
    "Makie.deactivate_interaction!(ax, :rectanglezoom)\n",
    "spoint = select_point(ax.scene, marker=:circle)"
   ]
  },
  {
   "cell_type": "code",
   "execution_count": 38,
   "metadata": {},
   "outputs": [
    {
     "data": {
      "text/plain": [
       "ObserverFunction defined at d:\\GitHub\\julia-l-and-d\\double_pendulum\\dp.ipynb:8 operating on Observable(Float32[0.0, 0.0])"
      ]
     },
     "metadata": {},
     "output_type": "display_data"
    }
   ],
   "source": [
    "function θωcoords(x, y)\n",
    "    θ = atan(y,x) + π/2\n",
    "\n",
    "    return SVector(θ,0,0,0)\n",
    "end\n",
    "\n",
    "on(spoint) do z\n",
    "    x, y = z\n",
    "    u = θωcoords(x,y)\n",
    "    reinit!(integ,u)\n",
    "\n",
    "    x1,x2,y1,y2=xycoords(u)\n",
    "    traj[] .= fill(Point2f(x2,y2), length(traj[]))\n",
    "    traj[] = traj[]\n",
    "    rod[] = [Point2f(0, 0), Point2f(x1, y1), Point2f(x2, y2)]\n",
    "    balls[] = [Point2f(x1, y1), Point2f(x2, y2)]\n",
    "end"
   ]
  },
  {
   "cell_type": "code",
   "execution_count": null,
   "metadata": {},
   "outputs": [],
   "source": []
  }
 ],
 "metadata": {
  "kernelspec": {
   "display_name": "Julia 1.9.3",
   "language": "julia",
   "name": "julia-1.9"
  },
  "language_info": {
   "file_extension": ".jl",
   "mimetype": "application/julia",
   "name": "julia",
   "version": "1.9.3"
  }
 },
 "nbformat": 4,
 "nbformat_minor": 2
}
