{
 "cells": [
  {
   "attachments": {},
   "cell_type": "markdown",
   "metadata": {},
   "source": [
    "# Decision Tree Model on the Titanic Dataset"
   ]
  },
  {
   "attachments": {},
   "cell_type": "markdown",
   "metadata": {},
   "source": [
    "Click [here](https://forem.julialang.org/mlj/julia-boards-the-titanic-1ne8) for the blog post."
   ]
  },
  {
   "attachments": {},
   "cell_type": "markdown",
   "metadata": {},
   "source": [
    "## Package Installation"
   ]
  },
  {
   "attachments": {},
   "cell_type": "markdown",
   "metadata": {},
   "source": [
    "We start by creating a new Julia package environment called `titanic`, for tracking versions of the packages we will need. Do this by typing these commands at the `julia>` prompt, with carriage returns added at the end of each line:"
   ]
  },
  {
   "cell_type": "code",
   "execution_count": 1,
   "metadata": {},
   "outputs": [
    {
     "name": "stderr",
     "output_type": "stream",
     "text": [
      "\u001b[32m\u001b[1m  Activating\u001b[22m\u001b[39m project at `C:\\Users\\luked\\.julia\\environments\\titanic`\n"
     ]
    }
   ],
   "source": [
    "# Using Pkg we activate our 'titanic' environment, stored in the shared area.\n",
    "using Pkg \n",
    "Pkg.activate(\"titanic\", shared=true)"
   ]
  },
  {
   "attachments": {},
   "cell_type": "markdown",
   "metadata": {},
   "source": [
    "To add the packages we need to your environment, enter the `]` character at the `julia>` prompt, to change it to `(titanic) pkg>`. Then enter: `add MLJ DataFrames BetaML` in the console. It may take a few minutes for these packages to be installed and \"precompiled\".\n",
    "\n",
    "Next time you want to use exactly the same combination of packages in a new Julia session, you can skip the `add` command and instead just enter the two lines above them."
   ]
  },
  {
   "attachments": {},
   "cell_type": "markdown",
   "metadata": {},
   "source": [
    "\n",
    "When the `(titanic) pkg>` prompt returns, enter `status` to see the package versions that were installed. Here's what each package does:\n",
    " - MLJ (machine learning toolbox): provides a common interface for interacting with models provided by different packages, and for automating common model-generic tasks, such as hyperparameter optimization demonstrated at the end of this.\n",
    " - DataFrames: Allows you to manipulate tabular data that fits into memory.\n",
    " - BetaML: Provides the core decision algorithm we will be building for Titanic prediction.\n",
    " \n",
    "Now return to the notebook."
   ]
  },
  {
   "attachments": {},
   "cell_type": "markdown",
   "metadata": {},
   "source": [
    "## Establishing correct data representation"
   ]
  },
  {
   "cell_type": "code",
   "execution_count": 2,
   "metadata": {},
   "outputs": [],
   "source": [
    "# We establish the correct data representation\n",
    "using MLJ  # MLJ is a machine learning toolbox\n",
    "import DataFrames as DF  # we store our data in dataframes"
   ]
  },
  {
   "attachments": {},
   "cell_type": "markdown",
   "metadata": {},
   "source": [
    "After entering the first line above we are ready to use any function in MLJ's documentation as it appears there. After the second, we can use functions from DataFrames, but must qualify the function names with a prefix `DF.`, as we'll see later."
   ]
  },
  {
   "attachments": {},
   "cell_type": "markdown",
   "metadata": {},
   "source": [
    "In MLJ, and some other statistics packages, a \"scientific type\" or scitype indicates how MLJ will interpret data (as opposed to how it is represented on your machine). Model data requirements are articulated using scitypes, which allows you to focus on what your data represents in the real world, instead of how it is stored on your computer.\n",
    "\n",
    "We'll grab our Titanic data set from OpenML, a platform for sharing machine learning datasets and workflows. The second line below converts the downloaded data into a dataframe and the third gets summary statistics forthe features in our dataset:"
   ]
  },
  {
   "cell_type": "code",
   "execution_count": 3,
   "metadata": {},
   "outputs": [
    {
     "data": {
      "text/html": [
       "<div><div style = \"float: left;\"><span>8×7 DataFrame</span></div><div style = \"clear: both;\"></div></div><div class = \"data-frame\" style = \"overflow-x: scroll;\"><table class = \"data-frame\" style = \"margin-bottom: 6px;\"><thead><tr class = \"header\"><th class = \"rowNumber\" style = \"font-weight: bold; text-align: right;\">Row</th><th style = \"text-align: left;\">variable</th><th style = \"text-align: left;\">mean</th><th style = \"text-align: left;\">min</th><th style = \"text-align: left;\">median</th><th style = \"text-align: left;\">max</th><th style = \"text-align: left;\">nmissing</th><th style = \"text-align: left;\">eltype</th></tr><tr class = \"subheader headerLastRow\"><th class = \"rowNumber\" style = \"font-weight: bold; text-align: right;\"></th><th title = \"Symbol\" style = \"text-align: left;\">Symbol</th><th title = \"Union{Nothing, Float64}\" style = \"text-align: left;\">Union…</th><th title = \"Any\" style = \"text-align: left;\">Any</th><th title = \"Union{Nothing, Float64}\" style = \"text-align: left;\">Union…</th><th title = \"Any\" style = \"text-align: left;\">Any</th><th title = \"Int64\" style = \"text-align: left;\">Int64</th><th title = \"Type\" style = \"text-align: left;\">Type</th></tr></thead><tbody><tr><td class = \"rowNumber\" style = \"font-weight: bold; text-align: right;\">1</td><td style = \"text-align: left;\">pclass</td><td style = \"font-style: italic; text-align: left;\"></td><td style = \"text-align: left;\">1</td><td style = \"font-style: italic; text-align: left;\"></td><td style = \"text-align: left;\">3</td><td style = \"text-align: right;\">0</td><td style = \"text-align: left;\">CategoricalValue{String, UInt32}</td></tr><tr><td class = \"rowNumber\" style = \"font-weight: bold; text-align: right;\">2</td><td style = \"text-align: left;\">sex</td><td style = \"font-style: italic; text-align: left;\"></td><td style = \"text-align: left;\">female</td><td style = \"font-style: italic; text-align: left;\"></td><td style = \"text-align: left;\">male</td><td style = \"text-align: right;\">0</td><td style = \"text-align: left;\">CategoricalValue{String, UInt32}</td></tr><tr><td class = \"rowNumber\" style = \"font-weight: bold; text-align: right;\">3</td><td style = \"text-align: left;\">age</td><td style = \"text-align: left;\">29.7589</td><td style = \"text-align: left;\">0.42</td><td style = \"text-align: left;\">30.0</td><td style = \"text-align: left;\">80.0</td><td style = \"text-align: right;\">0</td><td style = \"text-align: left;\">Float64</td></tr><tr><td class = \"rowNumber\" style = \"font-weight: bold; text-align: right;\">4</td><td style = \"text-align: left;\">sibsp</td><td style = \"text-align: left;\">0.523008</td><td style = \"text-align: left;\">0.0</td><td style = \"text-align: left;\">0.0</td><td style = \"text-align: left;\">8.0</td><td style = \"text-align: right;\">0</td><td style = \"text-align: left;\">Float64</td></tr><tr><td class = \"rowNumber\" style = \"font-weight: bold; text-align: right;\">5</td><td style = \"text-align: left;\">fare</td><td style = \"text-align: left;\">32.2042</td><td style = \"text-align: left;\">0.0</td><td style = \"text-align: left;\">14.4542</td><td style = \"text-align: left;\">512.329</td><td style = \"text-align: right;\">0</td><td style = \"text-align: left;\">Float64</td></tr><tr><td class = \"rowNumber\" style = \"font-weight: bold; text-align: right;\">6</td><td style = \"text-align: left;\">cabin</td><td style = \"font-style: italic; text-align: left;\"></td><td style = \"text-align: left;\">E31</td><td style = \"font-style: italic; text-align: left;\"></td><td style = \"text-align: left;\">C148</td><td style = \"text-align: right;\">687</td><td style = \"text-align: left;\">Union{Missing, CategoricalValue{String, UInt32}}</td></tr><tr><td class = \"rowNumber\" style = \"font-weight: bold; text-align: right;\">7</td><td style = \"text-align: left;\">embarked</td><td style = \"font-style: italic; text-align: left;\"></td><td style = \"text-align: left;\">C</td><td style = \"font-style: italic; text-align: left;\"></td><td style = \"text-align: left;\">S</td><td style = \"text-align: right;\">2</td><td style = \"text-align: left;\">Union{Missing, CategoricalValue{String, UInt32}}</td></tr><tr><td class = \"rowNumber\" style = \"font-weight: bold; text-align: right;\">8</td><td style = \"text-align: left;\">survived</td><td style = \"font-style: italic; text-align: left;\"></td><td style = \"text-align: left;\">0</td><td style = \"font-style: italic; text-align: left;\"></td><td style = \"text-align: left;\">1</td><td style = \"text-align: right;\">0</td><td style = \"text-align: left;\">CategoricalValue{String, UInt32}</td></tr></tbody></table></div>"
      ],
      "text/latex": [
       "\\begin{tabular}{r|ccccccc}\n",
       "\t& variable & mean & min & median & max & nmissing & eltype\\\\\n",
       "\t\\hline\n",
       "\t& Symbol & Union… & Any & Union… & Any & Int64 & Type\\\\\n",
       "\t\\hline\n",
       "\t1 & pclass &  & 1 &  & 3 & 0 & CategoricalValue\\{String, UInt32\\} \\\\\n",
       "\t2 & sex &  & female &  & male & 0 & CategoricalValue\\{String, UInt32\\} \\\\\n",
       "\t3 & age & 29.7589 & 0.42 & 30.0 & 80.0 & 0 & Float64 \\\\\n",
       "\t4 & sibsp & 0.523008 & 0.0 & 0.0 & 8.0 & 0 & Float64 \\\\\n",
       "\t5 & fare & 32.2042 & 0.0 & 14.4542 & 512.329 & 0 & Float64 \\\\\n",
       "\t6 & cabin &  & E31 &  & C148 & 687 & Union\\{Missing, CategoricalValue\\{String, UInt32\\}\\} \\\\\n",
       "\t7 & embarked &  & C &  & S & 2 & Union\\{Missing, CategoricalValue\\{String, UInt32\\}\\} \\\\\n",
       "\t8 & survived &  & 0 &  & 1 & 0 & CategoricalValue\\{String, UInt32\\} \\\\\n",
       "\\end{tabular}\n"
      ],
      "text/plain": [
       "\u001b[1m8×7 DataFrame\u001b[0m\n",
       "\u001b[1m Row \u001b[0m│\u001b[1m variable \u001b[0m\u001b[1m mean     \u001b[0m\u001b[1m min    \u001b[0m\u001b[1m median  \u001b[0m\u001b[1m max     \u001b[0m\u001b[1m nmissing \u001b[0m\u001b[1m eltype         \u001b[0m ⋯\n",
       "     │\u001b[90m Symbol   \u001b[0m\u001b[90m Union…   \u001b[0m\u001b[90m Any    \u001b[0m\u001b[90m Union…  \u001b[0m\u001b[90m Any     \u001b[0m\u001b[90m Int64    \u001b[0m\u001b[90m Type           \u001b[0m ⋯\n",
       "─────┼──────────────────────────────────────────────────────────────────────────\n",
       "   1 │ pclass   \u001b[90m          \u001b[0m 1      \u001b[90m         \u001b[0m 3               0  CategoricalValu ⋯\n",
       "   2 │ sex      \u001b[90m          \u001b[0m female \u001b[90m         \u001b[0m male            0  CategoricalValu\n",
       "   3 │ age       29.7589   0.42    30.0     80.0            0  Float64\n",
       "   4 │ sibsp     0.523008  0.0     0.0      8.0             0  Float64\n",
       "   5 │ fare      32.2042   0.0     14.4542  512.329         0  Float64         ⋯\n",
       "   6 │ cabin    \u001b[90m          \u001b[0m E31    \u001b[90m         \u001b[0m C148          687  Union{Missing,\n",
       "   7 │ embarked \u001b[90m          \u001b[0m C      \u001b[90m         \u001b[0m S               2  Union{Missing,\n",
       "   8 │ survived \u001b[90m          \u001b[0m 0      \u001b[90m         \u001b[0m 1               0  CategoricalValu\n",
       "\u001b[36m                                                                1 column omitted\u001b[0m"
      ]
     },
     "metadata": {},
     "output_type": "display_data"
    }
   ],
   "source": [
    "table = OpenML.load(42638)  # load the titanic data\n",
    "df = DF.DataFrame(table)  # assign it to a DataFrame\n",
    "DF.describe(df)  # show a brief description of the dataframe df"
   ]
  },
  {
   "attachments": {},
   "cell_type": "markdown",
   "metadata": {},
   "source": [
    "In particular, we see that `cabin` has a lot of missing values, and we'll shortly drop it for simplicity.\n",
    "\n",
    "To get a summary of feature scitypes, we use `schema`:"
   ]
  },
  {
   "cell_type": "code",
   "execution_count": 4,
   "metadata": {},
   "outputs": [
    {
     "data": {
      "text/plain": [
       "┌──────────┬─────────────────────────────────┬──────────────────────────────────\n",
       "│\u001b[22m names    \u001b[0m│\u001b[22m scitypes                        \u001b[0m│\u001b[22m types                          \u001b[0m ⋯\n",
       "├──────────┼─────────────────────────────────┼──────────────────────────────────\n",
       "│ pclass   │ Multiclass{3}                   │ CategoricalValue{String, UInt32 ⋯\n",
       "│ sex      │ Multiclass{2}                   │ CategoricalValue{String, UInt32 ⋯\n",
       "│ age      │ Continuous                      │ Float64                         ⋯\n",
       "│ sibsp    │ Continuous                      │ Float64                         ⋯\n",
       "│ fare     │ Continuous                      │ Float64                         ⋯\n",
       "│ cabin    │ Union{Missing, Multiclass{186}} │ Union{Missing, CategoricalValue ⋯\n",
       "│ embarked │ Union{Missing, Multiclass{3}}   │ Union{Missing, CategoricalValue ⋯\n",
       "│ survived │ Multiclass{2}                   │ CategoricalValue{String, UInt32 ⋯\n",
       "└──────────┴─────────────────────────────────┴──────────────────────────────────\n",
       "\u001b[36m                                                                1 column omitted\u001b[0m\n"
      ]
     },
     "metadata": {},
     "output_type": "display_data"
    }
   ],
   "source": [
    "schema(df)  # gets the scitypes and types of each feature"
   ]
  },
  {
   "attachments": {},
   "cell_type": "markdown",
   "metadata": {},
   "source": [
    "Now `sibsp` represents the number of siblings/spouses, which is not a continuous variable. So we fix that like this:"
   ]
  },
  {
   "cell_type": "code",
   "execution_count": 5,
   "metadata": {},
   "outputs": [
    {
     "data": {
      "text/html": [
       "<div><div style = \"float: left;\"><span>891×8 DataFrame</span></div><div style = \"float: right;\"><span style = \"font-style: italic;\">866 rows omitted</span></div><div style = \"clear: both;\"></div></div><div class = \"data-frame\" style = \"overflow-x: scroll;\"><table class = \"data-frame\" style = \"margin-bottom: 6px;\"><thead><tr class = \"header\"><th class = \"rowNumber\" style = \"font-weight: bold; text-align: right;\">Row</th><th style = \"text-align: left;\">pclass</th><th style = \"text-align: left;\">sex</th><th style = \"text-align: left;\">age</th><th style = \"text-align: left;\">sibsp</th><th style = \"text-align: left;\">fare</th><th style = \"text-align: left;\">cabin</th><th style = \"text-align: left;\">embarked</th><th style = \"text-align: left;\">survived</th></tr><tr class = \"subheader headerLastRow\"><th class = \"rowNumber\" style = \"font-weight: bold; text-align: right;\"></th><th title = \"CategoricalArrays.CategoricalValue{String, UInt32}\" style = \"text-align: left;\">Cat…</th><th title = \"CategoricalArrays.CategoricalValue{String, UInt32}\" style = \"text-align: left;\">Cat…</th><th title = \"Float64\" style = \"text-align: left;\">Float64</th><th title = \"Int64\" style = \"text-align: left;\">Int64</th><th title = \"Float64\" style = \"text-align: left;\">Float64</th><th title = \"Union{Missing, CategoricalArrays.CategoricalValue{String, UInt32}}\" style = \"text-align: left;\">Cat…?</th><th title = \"Union{Missing, CategoricalArrays.CategoricalValue{String, UInt32}}\" style = \"text-align: left;\">Cat…?</th><th title = \"CategoricalArrays.CategoricalValue{String, UInt32}\" style = \"text-align: left;\">Cat…</th></tr></thead><tbody><tr><td class = \"rowNumber\" style = \"font-weight: bold; text-align: right;\">1</td><td style = \"text-align: left;\">3</td><td style = \"text-align: left;\">male</td><td style = \"text-align: right;\">22.0</td><td style = \"text-align: right;\">1</td><td style = \"text-align: right;\">7.25</td><td style = \"font-style: italic; text-align: left;\">missing</td><td style = \"text-align: left;\">S</td><td style = \"text-align: left;\">0</td></tr><tr><td class = \"rowNumber\" style = \"font-weight: bold; text-align: right;\">2</td><td style = \"text-align: left;\">1</td><td style = \"text-align: left;\">female</td><td style = \"text-align: right;\">38.0</td><td style = \"text-align: right;\">1</td><td style = \"text-align: right;\">71.2833</td><td style = \"text-align: left;\">C85</td><td style = \"text-align: left;\">C</td><td style = \"text-align: left;\">1</td></tr><tr><td class = \"rowNumber\" style = \"font-weight: bold; text-align: right;\">3</td><td style = \"text-align: left;\">3</td><td style = \"text-align: left;\">female</td><td style = \"text-align: right;\">26.0</td><td style = \"text-align: right;\">0</td><td style = \"text-align: right;\">7.925</td><td style = \"font-style: italic; text-align: left;\">missing</td><td style = \"text-align: left;\">S</td><td style = \"text-align: left;\">1</td></tr><tr><td class = \"rowNumber\" style = \"font-weight: bold; text-align: right;\">4</td><td style = \"text-align: left;\">1</td><td style = \"text-align: left;\">female</td><td style = \"text-align: right;\">35.0</td><td style = \"text-align: right;\">1</td><td style = \"text-align: right;\">53.1</td><td style = \"text-align: left;\">C123</td><td style = \"text-align: left;\">S</td><td style = \"text-align: left;\">1</td></tr><tr><td class = \"rowNumber\" style = \"font-weight: bold; text-align: right;\">5</td><td style = \"text-align: left;\">3</td><td style = \"text-align: left;\">male</td><td style = \"text-align: right;\">35.0</td><td style = \"text-align: right;\">0</td><td style = \"text-align: right;\">8.05</td><td style = \"font-style: italic; text-align: left;\">missing</td><td style = \"text-align: left;\">S</td><td style = \"text-align: left;\">0</td></tr><tr><td class = \"rowNumber\" style = \"font-weight: bold; text-align: right;\">6</td><td style = \"text-align: left;\">3</td><td style = \"text-align: left;\">male</td><td style = \"text-align: right;\">30.0</td><td style = \"text-align: right;\">0</td><td style = \"text-align: right;\">8.4583</td><td style = \"font-style: italic; text-align: left;\">missing</td><td style = \"text-align: left;\">Q</td><td style = \"text-align: left;\">0</td></tr><tr><td class = \"rowNumber\" style = \"font-weight: bold; text-align: right;\">7</td><td style = \"text-align: left;\">1</td><td style = \"text-align: left;\">male</td><td style = \"text-align: right;\">54.0</td><td style = \"text-align: right;\">0</td><td style = \"text-align: right;\">51.8625</td><td style = \"text-align: left;\">E46</td><td style = \"text-align: left;\">S</td><td style = \"text-align: left;\">0</td></tr><tr><td class = \"rowNumber\" style = \"font-weight: bold; text-align: right;\">8</td><td style = \"text-align: left;\">3</td><td style = \"text-align: left;\">male</td><td style = \"text-align: right;\">2.0</td><td style = \"text-align: right;\">3</td><td style = \"text-align: right;\">21.075</td><td style = \"font-style: italic; text-align: left;\">missing</td><td style = \"text-align: left;\">S</td><td style = \"text-align: left;\">0</td></tr><tr><td class = \"rowNumber\" style = \"font-weight: bold; text-align: right;\">9</td><td style = \"text-align: left;\">3</td><td style = \"text-align: left;\">female</td><td style = \"text-align: right;\">27.0</td><td style = \"text-align: right;\">0</td><td style = \"text-align: right;\">11.1333</td><td style = \"font-style: italic; text-align: left;\">missing</td><td style = \"text-align: left;\">S</td><td style = \"text-align: left;\">1</td></tr><tr><td class = \"rowNumber\" style = \"font-weight: bold; text-align: right;\">10</td><td style = \"text-align: left;\">2</td><td style = \"text-align: left;\">female</td><td style = \"text-align: right;\">14.0</td><td style = \"text-align: right;\">1</td><td style = \"text-align: right;\">30.0708</td><td style = \"font-style: italic; text-align: left;\">missing</td><td style = \"text-align: left;\">C</td><td style = \"text-align: left;\">1</td></tr><tr><td class = \"rowNumber\" style = \"font-weight: bold; text-align: right;\">11</td><td style = \"text-align: left;\">3</td><td style = \"text-align: left;\">female</td><td style = \"text-align: right;\">4.0</td><td style = \"text-align: right;\">1</td><td style = \"text-align: right;\">16.7</td><td style = \"text-align: left;\">G6</td><td style = \"text-align: left;\">S</td><td style = \"text-align: left;\">1</td></tr><tr><td class = \"rowNumber\" style = \"font-weight: bold; text-align: right;\">12</td><td style = \"text-align: left;\">1</td><td style = \"text-align: left;\">female</td><td style = \"text-align: right;\">58.0</td><td style = \"text-align: right;\">0</td><td style = \"text-align: right;\">26.55</td><td style = \"text-align: left;\">C103</td><td style = \"text-align: left;\">S</td><td style = \"text-align: left;\">1</td></tr><tr><td class = \"rowNumber\" style = \"font-weight: bold; text-align: right;\">13</td><td style = \"text-align: left;\">3</td><td style = \"text-align: left;\">male</td><td style = \"text-align: right;\">20.0</td><td style = \"text-align: right;\">0</td><td style = \"text-align: right;\">8.05</td><td style = \"font-style: italic; text-align: left;\">missing</td><td style = \"text-align: left;\">S</td><td style = \"text-align: left;\">0</td></tr><tr><td style = \"text-align: right;\">&vellip;</td><td style = \"text-align: right;\">&vellip;</td><td style = \"text-align: right;\">&vellip;</td><td style = \"text-align: right;\">&vellip;</td><td style = \"text-align: right;\">&vellip;</td><td style = \"text-align: right;\">&vellip;</td><td style = \"text-align: right;\">&vellip;</td><td style = \"text-align: right;\">&vellip;</td><td style = \"text-align: right;\">&vellip;</td></tr><tr><td class = \"rowNumber\" style = \"font-weight: bold; text-align: right;\">880</td><td style = \"text-align: left;\">1</td><td style = \"text-align: left;\">female</td><td style = \"text-align: right;\">56.0</td><td style = \"text-align: right;\">0</td><td style = \"text-align: right;\">83.1583</td><td style = \"font-style: italic; text-align: left;\">C50</td><td style = \"text-align: left;\">C</td><td style = \"text-align: left;\">1</td></tr><tr><td class = \"rowNumber\" style = \"font-weight: bold; text-align: right;\">881</td><td style = \"text-align: left;\">2</td><td style = \"text-align: left;\">female</td><td style = \"text-align: right;\">25.0</td><td style = \"text-align: right;\">0</td><td style = \"text-align: right;\">26.0</td><td style = \"font-style: italic; text-align: left;\">missing</td><td style = \"text-align: left;\">S</td><td style = \"text-align: left;\">1</td></tr><tr><td class = \"rowNumber\" style = \"font-weight: bold; text-align: right;\">882</td><td style = \"text-align: left;\">3</td><td style = \"text-align: left;\">male</td><td style = \"text-align: right;\">33.0</td><td style = \"text-align: right;\">0</td><td style = \"text-align: right;\">7.8958</td><td style = \"font-style: italic; text-align: left;\">missing</td><td style = \"text-align: left;\">S</td><td style = \"text-align: left;\">0</td></tr><tr><td class = \"rowNumber\" style = \"font-weight: bold; text-align: right;\">883</td><td style = \"text-align: left;\">3</td><td style = \"text-align: left;\">female</td><td style = \"text-align: right;\">22.0</td><td style = \"text-align: right;\">0</td><td style = \"text-align: right;\">10.5167</td><td style = \"font-style: italic; text-align: left;\">missing</td><td style = \"text-align: left;\">S</td><td style = \"text-align: left;\">0</td></tr><tr><td class = \"rowNumber\" style = \"font-weight: bold; text-align: right;\">884</td><td style = \"text-align: left;\">2</td><td style = \"text-align: left;\">male</td><td style = \"text-align: right;\">28.0</td><td style = \"text-align: right;\">0</td><td style = \"text-align: right;\">10.5</td><td style = \"font-style: italic; text-align: left;\">missing</td><td style = \"text-align: left;\">S</td><td style = \"text-align: left;\">0</td></tr><tr><td class = \"rowNumber\" style = \"font-weight: bold; text-align: right;\">885</td><td style = \"text-align: left;\">3</td><td style = \"text-align: left;\">male</td><td style = \"text-align: right;\">25.0</td><td style = \"text-align: right;\">0</td><td style = \"text-align: right;\">7.05</td><td style = \"font-style: italic; text-align: left;\">missing</td><td style = \"text-align: left;\">S</td><td style = \"text-align: left;\">0</td></tr><tr><td class = \"rowNumber\" style = \"font-weight: bold; text-align: right;\">886</td><td style = \"text-align: left;\">3</td><td style = \"text-align: left;\">female</td><td style = \"text-align: right;\">39.0</td><td style = \"text-align: right;\">0</td><td style = \"text-align: right;\">29.125</td><td style = \"font-style: italic; text-align: left;\">missing</td><td style = \"text-align: left;\">Q</td><td style = \"text-align: left;\">0</td></tr><tr><td class = \"rowNumber\" style = \"font-weight: bold; text-align: right;\">887</td><td style = \"text-align: left;\">2</td><td style = \"text-align: left;\">male</td><td style = \"text-align: right;\">27.0</td><td style = \"text-align: right;\">0</td><td style = \"text-align: right;\">13.0</td><td style = \"font-style: italic; text-align: left;\">missing</td><td style = \"text-align: left;\">S</td><td style = \"text-align: left;\">0</td></tr><tr><td class = \"rowNumber\" style = \"font-weight: bold; text-align: right;\">888</td><td style = \"text-align: left;\">1</td><td style = \"text-align: left;\">female</td><td style = \"text-align: right;\">19.0</td><td style = \"text-align: right;\">0</td><td style = \"text-align: right;\">30.0</td><td style = \"text-align: left;\">B42</td><td style = \"text-align: left;\">S</td><td style = \"text-align: left;\">1</td></tr><tr><td class = \"rowNumber\" style = \"font-weight: bold; text-align: right;\">889</td><td style = \"text-align: left;\">3</td><td style = \"text-align: left;\">female</td><td style = \"text-align: right;\">30.0</td><td style = \"text-align: right;\">1</td><td style = \"text-align: right;\">23.45</td><td style = \"font-style: italic; text-align: left;\">missing</td><td style = \"text-align: left;\">S</td><td style = \"text-align: left;\">0</td></tr><tr><td class = \"rowNumber\" style = \"font-weight: bold; text-align: right;\">890</td><td style = \"text-align: left;\">1</td><td style = \"text-align: left;\">male</td><td style = \"text-align: right;\">26.0</td><td style = \"text-align: right;\">0</td><td style = \"text-align: right;\">30.0</td><td style = \"text-align: left;\">C148</td><td style = \"text-align: left;\">C</td><td style = \"text-align: left;\">1</td></tr><tr><td class = \"rowNumber\" style = \"font-weight: bold; text-align: right;\">891</td><td style = \"text-align: left;\">3</td><td style = \"text-align: left;\">male</td><td style = \"text-align: right;\">32.0</td><td style = \"text-align: right;\">0</td><td style = \"text-align: right;\">7.75</td><td style = \"font-style: italic; text-align: left;\">missing</td><td style = \"text-align: left;\">Q</td><td style = \"text-align: left;\">0</td></tr></tbody></table></div>"
      ],
      "text/latex": [
       "\\begin{tabular}{r|cccccccc}\n",
       "\t& pclass & sex & age & sibsp & fare & cabin & embarked & survived\\\\\n",
       "\t\\hline\n",
       "\t& Cat… & Cat… & Float64 & Int64 & Float64 & Cat…? & Cat…? & Cat…\\\\\n",
       "\t\\hline\n",
       "\t1 & 3 & male & 22.0 & 1 & 7.25 & \\emph{missing} & S & 0 \\\\\n",
       "\t2 & 1 & female & 38.0 & 1 & 71.2833 & C85 & C & 1 \\\\\n",
       "\t3 & 3 & female & 26.0 & 0 & 7.925 & \\emph{missing} & S & 1 \\\\\n",
       "\t4 & 1 & female & 35.0 & 1 & 53.1 & C123 & S & 1 \\\\\n",
       "\t5 & 3 & male & 35.0 & 0 & 8.05 & \\emph{missing} & S & 0 \\\\\n",
       "\t6 & 3 & male & 30.0 & 0 & 8.4583 & \\emph{missing} & Q & 0 \\\\\n",
       "\t7 & 1 & male & 54.0 & 0 & 51.8625 & E46 & S & 0 \\\\\n",
       "\t8 & 3 & male & 2.0 & 3 & 21.075 & \\emph{missing} & S & 0 \\\\\n",
       "\t9 & 3 & female & 27.0 & 0 & 11.1333 & \\emph{missing} & S & 1 \\\\\n",
       "\t10 & 2 & female & 14.0 & 1 & 30.0708 & \\emph{missing} & C & 1 \\\\\n",
       "\t11 & 3 & female & 4.0 & 1 & 16.7 & G6 & S & 1 \\\\\n",
       "\t12 & 1 & female & 58.0 & 0 & 26.55 & C103 & S & 1 \\\\\n",
       "\t13 & 3 & male & 20.0 & 0 & 8.05 & \\emph{missing} & S & 0 \\\\\n",
       "\t14 & 3 & male & 39.0 & 1 & 31.275 & \\emph{missing} & S & 0 \\\\\n",
       "\t15 & 3 & female & 14.0 & 0 & 7.8542 & \\emph{missing} & S & 0 \\\\\n",
       "\t16 & 2 & female & 55.0 & 0 & 16.0 & \\emph{missing} & S & 1 \\\\\n",
       "\t17 & 3 & male & 2.0 & 4 & 29.125 & \\emph{missing} & Q & 0 \\\\\n",
       "\t18 & 2 & male & 30.0 & 0 & 13.0 & \\emph{missing} & S & 1 \\\\\n",
       "\t19 & 3 & female & 31.0 & 1 & 18.0 & \\emph{missing} & S & 0 \\\\\n",
       "\t20 & 3 & female & 30.0 & 0 & 7.225 & \\emph{missing} & C & 1 \\\\\n",
       "\t21 & 2 & male & 35.0 & 0 & 26.0 & \\emph{missing} & S & 0 \\\\\n",
       "\t22 & 2 & male & 34.0 & 0 & 13.0 & D56 & S & 1 \\\\\n",
       "\t23 & 3 & female & 15.0 & 0 & 8.0292 & \\emph{missing} & Q & 1 \\\\\n",
       "\t24 & 1 & male & 28.0 & 0 & 35.5 & A6 & S & 1 \\\\\n",
       "\t$\\dots$ & $\\dots$ & $\\dots$ & $\\dots$ & $\\dots$ & $\\dots$ & $\\dots$ & $\\dots$ & $\\dots$ \\\\\n",
       "\\end{tabular}\n"
      ],
      "text/plain": [
       "\u001b[1m891×8 DataFrame\u001b[0m\n",
       "\u001b[1m Row \u001b[0m│\u001b[1m pclass \u001b[0m\u001b[1m sex    \u001b[0m\u001b[1m age     \u001b[0m\u001b[1m sibsp \u001b[0m\u001b[1m fare    \u001b[0m\u001b[1m cabin   \u001b[0m\u001b[1m embarked \u001b[0m\u001b[1m survived \u001b[0m\n",
       "     │\u001b[90m Cat…   \u001b[0m\u001b[90m Cat…   \u001b[0m\u001b[90m Float64 \u001b[0m\u001b[90m Int64 \u001b[0m\u001b[90m Float64 \u001b[0m\u001b[90m Cat…?   \u001b[0m\u001b[90m Cat…?    \u001b[0m\u001b[90m Cat…     \u001b[0m\n",
       "─────┼──────────────────────────────────────────────────────────────────────\n",
       "   1 │ 3       male       22.0      1   7.25   \u001b[90m missing \u001b[0m S         0\n",
       "   2 │ 1       female     38.0      1  71.2833  C85      C         1\n",
       "   3 │ 3       female     26.0      0   7.925  \u001b[90m missing \u001b[0m S         1\n",
       "   4 │ 1       female     35.0      1  53.1     C123     S         1\n",
       "   5 │ 3       male       35.0      0   8.05   \u001b[90m missing \u001b[0m S         0\n",
       "   6 │ 3       male       30.0      0   8.4583 \u001b[90m missing \u001b[0m Q         0\n",
       "   7 │ 1       male       54.0      0  51.8625  E46      S         0\n",
       "   8 │ 3       male        2.0      3  21.075  \u001b[90m missing \u001b[0m S         0\n",
       "  ⋮  │   ⋮       ⋮        ⋮       ⋮       ⋮        ⋮        ⋮         ⋮\n",
       " 885 │ 3       male       25.0      0   7.05   \u001b[90m missing \u001b[0m S         0\n",
       " 886 │ 3       female     39.0      0  29.125  \u001b[90m missing \u001b[0m Q         0\n",
       " 887 │ 2       male       27.0      0  13.0    \u001b[90m missing \u001b[0m S         0\n",
       " 888 │ 1       female     19.0      0  30.0     B42      S         1\n",
       " 889 │ 3       female     30.0      1  23.45   \u001b[90m missing \u001b[0m S         0\n",
       " 890 │ 1       male       26.0      0  30.0     C148     C         1\n",
       " 891 │ 3       male       32.0      0   7.75   \u001b[90m missing \u001b[0m Q         0\n",
       "\u001b[36m                                                            876 rows omitted\u001b[0m"
      ]
     },
     "metadata": {},
     "output_type": "display_data"
    }
   ],
   "source": [
    "coerce!(df, :sibsp => Count)  # change the scitype of sibsp to Count, ! replaces it"
   ]
  },
  {
   "attachments": {},
   "cell_type": "markdown",
   "metadata": {},
   "source": [
    "Call `schema(df)` again, to check a successful change."
   ]
  },
  {
   "cell_type": "code",
   "execution_count": 6,
   "metadata": {},
   "outputs": [
    {
     "data": {
      "text/plain": [
       "┌──────────┬─────────────────────────────────┬──────────────────────────────────\n",
       "│\u001b[22m names    \u001b[0m│\u001b[22m scitypes                        \u001b[0m│\u001b[22m types                          \u001b[0m ⋯\n",
       "├──────────┼─────────────────────────────────┼──────────────────────────────────\n",
       "│ pclass   │ Multiclass{3}                   │ CategoricalValue{String, UInt32 ⋯\n",
       "│ sex      │ Multiclass{2}                   │ CategoricalValue{String, UInt32 ⋯\n",
       "│ age      │ Continuous                      │ Float64                         ⋯\n",
       "│ sibsp    │ Count                           │ Int64                           ⋯\n",
       "│ fare     │ Continuous                      │ Float64                         ⋯\n",
       "│ cabin    │ Union{Missing, Multiclass{186}} │ Union{Missing, CategoricalValue ⋯\n",
       "│ embarked │ Union{Missing, Multiclass{3}}   │ Union{Missing, CategoricalValue ⋯\n",
       "│ survived │ Multiclass{2}                   │ CategoricalValue{String, UInt32 ⋯\n",
       "└──────────┴─────────────────────────────────┴──────────────────────────────────\n",
       "\u001b[36m                                                                1 column omitted\u001b[0m\n"
      ]
     },
     "metadata": {},
     "output_type": "display_data"
    }
   ],
   "source": [
    "schema(df)  # check scitypes again"
   ]
  },
  {
   "attachments": {},
   "cell_type": "markdown",
   "metadata": {},
   "source": [
    "## Splitting into train and test sets"
   ]
  },
  {
   "attachments": {},
   "cell_type": "markdown",
   "metadata": {},
   "source": [
    "To objectively evaluate the performance of our final model, we split off 30% of our data into a holdout set, called `df_test`, which will not used for training. You can check the number of observations in each set with `DF.nrow(df)` and `DF.nrow(df_test)`:"
   ]
  },
  {
   "cell_type": "code",
   "execution_count": 7,
   "metadata": {},
   "outputs": [
    {
     "name": "stdout",
     "output_type": "stream",
     "text": [
      "624\n",
      "267\n"
     ]
    }
   ],
   "source": [
    "df, df_test = partition(df, 0.7, rng=123)  # split 70:30 into df and df_test\n",
    "\n",
    "println(DF.nrow(df))  # print number of rows on df\n",
    "println(DF.nrow(df_test))  # print number of rows in df_test\n"
   ]
  },
  {
   "cell_type": "markdown",
   "metadata": {},
   "source": [
    "## Splitting data into input features and target"
   ]
  },
  {
   "attachments": {},
   "cell_type": "markdown",
   "metadata": {},
   "source": [
    "In supervised learning, the target is the variable we want to predict, in this case `survived`. The other features will be inputs to our predictor. The following code puts the `df` column with name `survived` into the vector `y` (the target) and everything else, except `cabin`, which we're dropping, into a new dataframe called `X` (the input features)."
   ]
  },
  {
   "cell_type": "code",
   "execution_count": 8,
   "metadata": {},
   "outputs": [
    {
     "data": {
      "text/plain": [
       "(CategoricalArrays.CategoricalValue{String, UInt32}[\"1\", \"0\", \"0\", \"0\", \"1\", \"0\", \"0\", \"1\", \"1\", \"1\"  …  \"0\", \"1\", \"0\", \"0\", \"1\", \"0\", \"1\", \"0\", \"1\", \"0\"], \u001b[1m624×6 DataFrame\u001b[0m\n",
       "\u001b[1m Row \u001b[0m│\u001b[1m pclass \u001b[0m\u001b[1m sex    \u001b[0m\u001b[1m age     \u001b[0m\u001b[1m sibsp \u001b[0m\u001b[1m fare    \u001b[0m\u001b[1m embarked \u001b[0m\n",
       "     │\u001b[90m Cat…   \u001b[0m\u001b[90m Cat…   \u001b[0m\u001b[90m Float64 \u001b[0m\u001b[90m Int64 \u001b[0m\u001b[90m Float64 \u001b[0m\u001b[90m Cat…?    \u001b[0m\n",
       "─────┼───────────────────────────────────────────────────\n",
       "   1 │ 3       female     31.0      0   8.6833  S\n",
       "   2 │ 3       male        2.0      4  29.125   Q\n",
       "   3 │ 3       male       30.0      0   7.8958  S\n",
       "   4 │ 2       male       34.0      1  26.0     S\n",
       "   5 │ 1       female     54.0      1  78.2667  C\n",
       "   6 │ 3       male       30.5      0   8.05    S\n",
       "   7 │ 3       male       32.0      0   8.3625  S\n",
       "   8 │ 3       male       32.0      0   8.05    S\n",
       "  ⋮  │   ⋮       ⋮        ⋮       ⋮       ⋮        ⋮\n",
       " 618 │ 3       male       36.0      0   0.0     S\n",
       " 619 │ 2       male       42.0      0  13.0     S\n",
       " 620 │ 3       male       26.0      0   7.8958  S\n",
       " 621 │ 3       female     33.0      3  15.85    S\n",
       " 622 │ 3       female     25.0      1   7.925   S\n",
       " 623 │ 3       female     18.0      0   9.8417  S\n",
       " 624 │ 1       male       31.0      1  52.0     S\n",
       "\u001b[36m                                         609 rows omitted\u001b[0m, Union{Missing, CategoricalArrays.CategoricalValue{String, UInt32}}[missing, missing, missing, missing, \"D20\", missing, missing, \"E10\", missing, missing  …  missing, missing, \"C49\", missing, missing, missing, missing, missing, missing, \"B71\"])"
      ]
     },
     "metadata": {},
     "output_type": "display_data"
    }
   ],
   "source": [
    "y, X = unpack(df, ==(:survived), !=(:cabin))"
   ]
  },
  {
   "attachments": {},
   "cell_type": "markdown",
   "metadata": {},
   "source": [
    "You can check `X` and `y` have the expected form by doing `schema(X)` and `scitype(y)`:"
   ]
  },
  {
   "cell_type": "code",
   "execution_count": 9,
   "metadata": {},
   "outputs": [
    {
     "data": {
      "text/plain": [
       "┌──────────┬───────────────────────────────┬────────────────────────────────────\n",
       "│\u001b[22m names    \u001b[0m│\u001b[22m scitypes                      \u001b[0m│\u001b[22m types                            \u001b[0m ⋯\n",
       "├──────────┼───────────────────────────────┼────────────────────────────────────\n",
       "│ pclass   │ Multiclass{3}                 │ CategoricalValue{String, UInt32}  ⋯\n",
       "│ sex      │ Multiclass{2}                 │ CategoricalValue{String, UInt32}  ⋯\n",
       "│ age      │ Continuous                    │ Float64                           ⋯\n",
       "│ sibsp    │ Count                         │ Int64                             ⋯\n",
       "│ fare     │ Continuous                    │ Float64                           ⋯\n",
       "│ embarked │ Union{Missing, Multiclass{3}} │ Union{Missing, CategoricalValue{S ⋯\n",
       "└──────────┴───────────────────────────────┴────────────────────────────────────\n",
       "\u001b[36m                                                                1 column omitted\u001b[0m\n"
      ]
     },
     "metadata": {},
     "output_type": "display_data"
    }
   ],
   "source": [
    "schema(X)"
   ]
  },
  {
   "cell_type": "code",
   "execution_count": 10,
   "metadata": {},
   "outputs": [
    {
     "data": {
      "text/plain": [
       "AbstractVector{Multiclass{2}}\u001b[90m (alias for \u001b[39m\u001b[90mAbstractArray{Multiclass{2}, 1}\u001b[39m\u001b[90m)\u001b[39m"
      ]
     },
     "metadata": {},
     "output_type": "display_data"
    }
   ],
   "source": [
    "scitype(y)"
   ]
  },
  {
   "attachments": {},
   "cell_type": "markdown",
   "metadata": {},
   "source": [
    "We'll want to do the same for the holdout test set:"
   ]
  },
  {
   "cell_type": "code",
   "execution_count": 11,
   "metadata": {},
   "outputs": [
    {
     "data": {
      "text/plain": [
       "(CategoricalArrays.CategoricalValue{String, UInt32}[\"0\", \"0\", \"1\", \"0\", \"0\", \"0\", \"1\", \"1\", \"0\", \"1\"  …  \"1\", \"0\", \"0\", \"0\", \"0\", \"1\", \"0\", \"0\", \"1\", \"0\"], \u001b[1m267×6 DataFrame\u001b[0m\n",
       "\u001b[1m Row \u001b[0m│\u001b[1m pclass \u001b[0m\u001b[1m sex    \u001b[0m\u001b[1m age     \u001b[0m\u001b[1m sibsp \u001b[0m\u001b[1m fare     \u001b[0m\u001b[1m embarked \u001b[0m\n",
       "     │\u001b[90m Cat…   \u001b[0m\u001b[90m Cat…   \u001b[0m\u001b[90m Float64 \u001b[0m\u001b[90m Int64 \u001b[0m\u001b[90m Float64  \u001b[0m\u001b[90m Cat…?    \u001b[0m\n",
       "─────┼────────────────────────────────────────────────────\n",
       "   1 │ 1       male       24.0      0   79.2     C\n",
       "   2 │ 1       male       58.0      0   29.7     C\n",
       "   3 │ 3       female     30.0      0    7.8292  Q\n",
       "   4 │ 3       male       30.0      0    8.7125  C\n",
       "   5 │ 2       male       39.0      0   13.0     S\n",
       "   6 │ 3       female     30.0      0   15.2458  C\n",
       "   7 │ 1       female     30.0      1  146.521   C\n",
       "   8 │ 1       male       32.0      0   30.5     C\n",
       "  ⋮  │   ⋮       ⋮        ⋮       ⋮       ⋮         ⋮\n",
       " 261 │ 3       male       23.5      0    7.2292  C\n",
       " 262 │ 3       male       28.0      0    7.8958  S\n",
       " 263 │ 1       female     15.0      0  211.338   S\n",
       " 264 │ 2       male       23.0      0   13.0     S\n",
       " 265 │ 3       male       19.0      0    0.0     S\n",
       " 266 │ 3       male       44.0      0    7.925   S\n",
       " 267 │ 3       male       30.0      0    7.75    Q\n",
       "\u001b[36m                                          252 rows omitted\u001b[0m, Union{Missing, CategoricalArrays.CategoricalValue{String, UInt32}}[\"B86\", \"B37\", missing, missing, missing, missing, \"B78\", \"B50\", missing, missing  …  \"C47\", missing, missing, missing, missing, \"B5\", missing, missing, missing, missing])"
      ]
     },
     "metadata": {},
     "output_type": "display_data"
    }
   ],
   "source": [
    "y_test, X_test = unpack(df_test, ==(:survived), !=(:cabin))"
   ]
  },
  {
   "attachments": {},
   "cell_type": "markdown",
   "metadata": {},
   "source": [
    "## Choosing a supervised model"
   ]
  },
  {
   "attachments": {},
   "cell_type": "markdown",
   "metadata": {},
   "source": [
    "There are not many models that can directly handle missing values and a mixture of scitypes, as we have here. Here's how to list the ones that do:"
   ]
  },
  {
   "cell_type": "code",
   "execution_count": 12,
   "metadata": {},
   "outputs": [
    {
     "data": {
      "text/plain": [
       "4-element Vector{NamedTuple{(:name, :package_name, :is_supervised, :abstract_type, :deep_properties, :docstring, :fit_data_scitype, :human_name, :hyperparameter_ranges, :hyperparameter_types, :hyperparameters, :implemented_methods, :inverse_transform_scitype, :is_pure_julia, :is_wrapper, :iteration_parameter, :load_path, :package_license, :package_url, :package_uuid, :predict_scitype, :prediction_type, :reporting_operations, :reports_feature_importances, :supports_class_weights, :supports_online, :supports_training_losses, :supports_weights, :transform_scitype, :input_scitype, :target_scitype, :output_scitype)}}:\n",
       " (name = ConstantClassifier, package_name = MLJModels, ... )\n",
       " (name = DecisionTreeClassifier, package_name = BetaML, ... )\n",
       " (name = DeterministicConstantClassifier, package_name = MLJModels, ... )\n",
       " (name = RandomForestClassifier, package_name = BetaML, ... )"
      ]
     },
     "metadata": {},
     "output_type": "display_data"
    }
   ],
   "source": [
    "models(matching(X,y))  # look for models that can be used for our dataset"
   ]
  },
  {
   "attachments": {},
   "cell_type": "markdown",
   "metadata": {},
   "source": [
    "This shortcoming can be addressed with data preprocessing provided by MLJ but not covered here, such as one-hot encoding and missing value imputation. We'll settle for the indicated decision tree.\n",
    "\n",
    "The code for the decision tree model is not available until we explicitly load it, but we can already inspect it's documentation. Do this by entering `doc(\"DecisionTreeClassifier\", pkg=\"BetaML\")`. (To browse all MLJ model documentation use the Model Browser.)\n",
    "\n",
    "An MLJ-specific method for loading the model code (and necessary packages) is shown below:"
   ]
  },
  {
   "cell_type": "code",
   "execution_count": 13,
   "metadata": {},
   "outputs": [
    {
     "name": "stderr",
     "output_type": "stream",
     "text": [
      "┌ Info: For silent loading, specify `verbosity=0`. \n",
      "└ @ Main C:\\Users\\luked\\.julia\\packages\\MLJModels\\EkXIe\\src\\loading.jl:159\n"
     ]
    },
    {
     "name": "stdout",
     "output_type": "stream",
     "text": [
      "import BetaML"
     ]
    },
    {
     "name": "stdout",
     "output_type": "stream",
     "text": [
      " ✔\n"
     ]
    },
    {
     "data": {
      "text/plain": [
       "DecisionTreeClassifier(\n",
       "  max_depth = 0, \n",
       "  min_gain = 0.0, \n",
       "  min_records = 2, \n",
       "  max_features = 0, \n",
       "  splitting_criterion = BetaML.Utils.gini, \n",
       "  rng = Random._GLOBAL_RNG())"
      ]
     },
     "metadata": {},
     "output_type": "display_data"
    }
   ],
   "source": [
    "Tree = @load DecisionTreeClassifier pkg=BetaML  # Define a model\n",
    "tree = Tree()  # assign it"
   ]
  },
  {
   "attachments": {},
   "cell_type": "markdown",
   "metadata": {},
   "source": [
    "The first line loads the model type, which we've called `Tree`; the second creates an object storing default hyperparameters for a `Tree` model.\n",
    "\n",
    "We can specify different hyperparameters like this:"
   ]
  },
  {
   "cell_type": "code",
   "execution_count": 14,
   "metadata": {},
   "outputs": [
    {
     "data": {
      "text/plain": [
       "DecisionTreeClassifier(\n",
       "  max_depth = 10, \n",
       "  min_gain = 0.0, \n",
       "  min_records = 2, \n",
       "  max_features = 0, \n",
       "  splitting_criterion = BetaML.Utils.gini, \n",
       "  rng = Random._GLOBAL_RNG())"
      ]
     },
     "metadata": {},
     "output_type": "display_data"
    }
   ],
   "source": [
    "tree = Tree(max_depth=10)  # specify a hyperparameter"
   ]
  },
  {
   "attachments": {},
   "cell_type": "markdown",
   "metadata": {},
   "source": [
    "## Training the model"
   ]
  },
  {
   "attachments": {},
   "cell_type": "markdown",
   "metadata": {},
   "source": [
    "We now bind the data to be used for training and the hyperparameter object `tree` we just created in a new object called a `machine`:"
   ]
  },
  {
   "cell_type": "code",
   "execution_count": 15,
   "metadata": {},
   "outputs": [
    {
     "data": {
      "text/plain": [
       "untrained Machine; caches model-specific representations of data\n",
       "  model: DecisionTreeClassifier(max_depth = 10, …)\n",
       "  args: \n",
       "    1:\tSource @582 ⏎ Table{Union{AbstractVector{Continuous}, AbstractVector{Count}, AbstractVector{Multiclass{3}}, AbstractVector{Multiclass{2}}, AbstractVector{Union{Missing, Multiclass{3}}}}}\n",
       "    2:\tSource @767 ⏎ AbstractVector{Multiclass{2}}\n"
      ]
     },
     "metadata": {},
     "output_type": "display_data"
    }
   ],
   "source": [
    "mach = machine(tree, X, y)"
   ]
  },
  {
   "attachments": {},
   "cell_type": "markdown",
   "metadata": {},
   "source": [
    "We train the model on all bound data by calling `fit!` on the machine. The exclamation mark `!` in `fit!` tells us that `fit!` mutates (changes) its argument. In this case the model's learned parameters (the actual decision tree) is stored in the `mach` object:"
   ]
  },
  {
   "cell_type": "code",
   "execution_count": 16,
   "metadata": {},
   "outputs": [
    {
     "name": "stderr",
     "output_type": "stream",
     "text": [
      "┌ Info: Training machine(DecisionTreeClassifier(max_depth = 10, …), …).\n",
      "└ @ MLJBase C:\\Users\\luked\\.julia\\packages\\MLJBase\\fEiP2\\src\\machines.jl:492\n"
     ]
    },
    {
     "data": {
      "text/plain": [
       "trained Machine; caches model-specific representations of data\n",
       "  model: DecisionTreeClassifier(max_depth = 10, …)\n",
       "  args: \n",
       "    1:\tSource @582 ⏎ Table{Union{AbstractVector{Continuous}, AbstractVector{Count}, AbstractVector{Multiclass{3}}, AbstractVector{Multiclass{2}}, AbstractVector{Union{Missing, Multiclass{3}}}}}\n",
       "    2:\tSource @767 ⏎ AbstractVector{Multiclass{2}}\n"
      ]
     },
     "metadata": {},
     "output_type": "display_data"
    }
   ],
   "source": [
    "fit!(mach)"
   ]
  },
  {
   "attachments": {},
   "cell_type": "markdown",
   "metadata": {},
   "source": [
    "Before getting predictions for new inputs, let's start by looking at predictions for the inputs we trained on:"
   ]
  },
  {
   "cell_type": "code",
   "execution_count": 17,
   "metadata": {},
   "outputs": [
    {
     "data": {
      "text/plain": [
       "624-element CategoricalDistributions.UnivariateFiniteVector{Multiclass{2}, String, UInt32, Float64}:\n",
       " UnivariateFinite{Multiclass{2}}(0=>0.0, 1=>1.0)\n",
       " UnivariateFinite{Multiclass{2}}(0=>1.0, 1=>0.0)\n",
       " UnivariateFinite{Multiclass{2}}(0=>1.0, 1=>0.0)\n",
       " UnivariateFinite{Multiclass{2}}(0=>1.0, 1=>0.0)\n",
       " UnivariateFinite{Multiclass{2}}(0=>0.0, 1=>1.0)\n",
       " UnivariateFinite{Multiclass{2}}(0=>0.915, 1=>0.0851)\n",
       " UnivariateFinite{Multiclass{2}}(0=>1.0, 1=>0.0)\n",
       " UnivariateFinite{Multiclass{2}}(0=>0.333, 1=>0.667)\n",
       " UnivariateFinite{Multiclass{2}}(0=>0.5, 1=>0.5)\n",
       " UnivariateFinite{Multiclass{2}}(0=>0.0, 1=>1.0)\n",
       " ⋮\n",
       " UnivariateFinite{Multiclass{2}}(0=>0.0, 1=>1.0)\n",
       " UnivariateFinite{Multiclass{2}}(0=>1.0, 1=>0.0)\n",
       " UnivariateFinite{Multiclass{2}}(0=>1.0, 1=>0.0)\n",
       " UnivariateFinite{Multiclass{2}}(0=>0.5, 1=>0.5)\n",
       " UnivariateFinite{Multiclass{2}}(0=>1.0, 1=>0.0)\n",
       " UnivariateFinite{Multiclass{2}}(0=>0.25, 1=>0.75)\n",
       " UnivariateFinite{Multiclass{2}}(0=>1.0, 1=>0.0)\n",
       " UnivariateFinite{Multiclass{2}}(0=>0.444, 1=>0.556)\n",
       " UnivariateFinite{Multiclass{2}}(0=>0.611, 1=>0.389)"
      ]
     },
     "metadata": {},
     "output_type": "display_data"
    }
   ],
   "source": [
    "p = predict(mach, X)"
   ]
  },
  {
   "attachments": {},
   "cell_type": "markdown",
   "metadata": {},
   "source": [
    "Notice that these are probabilistic predictions. For example, we have"
   ]
  },
  {
   "cell_type": "code",
   "execution_count": 18,
   "metadata": {},
   "outputs": [
    {
     "data": {
      "text/plain": [
       "UnivariateFinite{Multiclass{2}}(0=>0.915, 1=>0.0851)"
      ]
     },
     "metadata": {},
     "output_type": "display_data"
    }
   ],
   "source": [
    "p[6]"
   ]
  },
  {
   "attachments": {},
   "cell_type": "markdown",
   "metadata": {},
   "source": [
    "Extracting a raw probability requires an extra step. For example, to get this durvival probability (`1` corresponding to survival and `0` to death), we do this:"
   ]
  },
  {
   "cell_type": "code",
   "execution_count": 19,
   "metadata": {},
   "outputs": [
    {
     "data": {
      "text/plain": [
       "0.0851063829787234"
      ]
     },
     "metadata": {},
     "output_type": "display_data"
    }
   ],
   "source": [
    "pdf(p[6], \"1\")"
   ]
  },
  {
   "attachments": {},
   "cell_type": "markdown",
   "metadata": {},
   "source": [
    "We can also get \"point\" predictions using the `mode` function and Julia's broadcasting syntax:"
   ]
  },
  {
   "cell_type": "code",
   "execution_count": 20,
   "metadata": {},
   "outputs": [
    {
     "data": {
      "text/plain": [
       "3-element CategoricalArrays.CategoricalArray{String,1,UInt32}:\n",
       " \"0\"\n",
       " \"0\"\n",
       " \"1\""
      ]
     },
     "metadata": {},
     "output_type": "display_data"
    }
   ],
   "source": [
    "yhat = mode.(p)\n",
    "yhat[3:5]"
   ]
  },
  {
   "attachments": {},
   "cell_type": "markdown",
   "metadata": {},
   "source": [
    "## Evaluating model performance"
   ]
  },
  {
   "attachments": {},
   "cell_type": "markdown",
   "metadata": {},
   "source": [
    "Let's see how accurate our model is at predicting on the data it trained on:"
   ]
  },
  {
   "cell_type": "code",
   "execution_count": 21,
   "metadata": {},
   "outputs": [
    {
     "data": {
      "text/plain": [
       "0.9214743589743589"
      ]
     },
     "metadata": {},
     "output_type": "display_data"
    }
   ],
   "source": [
    "accuracy(yhat, y)"
   ]
  },
  {
   "attachments": {},
   "cell_type": "markdown",
   "metadata": {},
   "source": [
    "Over 90% accuracy! Better check the accuracy on the test data that the model hasn't seen:"
   ]
  },
  {
   "cell_type": "code",
   "execution_count": 22,
   "metadata": {},
   "outputs": [
    {
     "data": {
      "text/plain": [
       "0.7790262172284644"
      ]
     },
     "metadata": {},
     "output_type": "display_data"
    }
   ],
   "source": [
    "yhat = mode.(predict(mach, X_test))\n",
    "accuracy(yhat, y_test)"
   ]
  },
  {
   "attachments": {},
   "cell_type": "markdown",
   "metadata": {},
   "source": [
    "Oh dear. We are most likely overfitting the model. Still, not a bad first step."
   ]
  },
  {
   "attachments": {},
   "cell_type": "markdown",
   "metadata": {},
   "source": [
    "The evaluation we have just performed is known as holdout evaluation. MLJ provides tools for automating such evaluations, as well as more sophisticated ones such ass cross-validation."
   ]
  },
  {
   "attachments": {},
   "cell_type": "markdown",
   "metadata": {},
   "source": [
    "## Tuning the model"
   ]
  },
  {
   "attachments": {},
   "cell_type": "markdown",
   "metadata": {},
   "source": [
    "Changing any hyperparameter of our model will alter it's performance. In particular, chainging certain parameters may mitigate overfitting.\n",
    "\n",
    "In MLJ we can \"wrap\" the model to make it more automatically optimize a given hyperparameter, which it does by internally creating its own holdout set for evaluation (or using some other resampling scheme) and systematically searching over a specified range of one or more hyperparameters. Let's do that now for our decision tree.\n",
    "\n",
    "First, we define a hyperparameter rang eover which we search:"
   ]
  },
  {
   "cell_type": "code",
   "execution_count": 23,
   "metadata": {},
   "outputs": [
    {
     "data": {
      "text/plain": [
       "NumericRange(0 ≤ max_depth ≤ 8; origin=4.0, unit=4.0)"
      ]
     },
     "metadata": {},
     "output_type": "display_data"
    }
   ],
   "source": [
    "r = range(tree, :max_depth, lower=0, upper=8)"
   ]
  },
  {
   "attachments": {},
   "cell_type": "markdown",
   "metadata": {},
   "source": [
    "Note that, according to the document string for the decision tree (`?Tree`) we see that `0` here means \"no limit on `max_depth`\".\n",
    "\n",
    "Next, we apply MLJ's `TunedModel` wrapper to our tree, specifying the range and performance measure to use as a basis for optimization, as well as the resampling strategy we want to use, and the search method (grid in this case)."
   ]
  },
  {
   "cell_type": "code",
   "execution_count": 24,
   "metadata": {},
   "outputs": [
    {
     "data": {
      "text/plain": [
       "ProbabilisticTunedModel(\n",
       "  model = DecisionTreeClassifier(\n",
       "        max_depth = 10, \n",
       "        min_gain = 0.0, \n",
       "        min_records = 2, \n",
       "        max_features = 0, \n",
       "        splitting_criterion = BetaML.Utils.gini, \n",
       "        rng = Random._GLOBAL_RNG()), \n",
       "  tuning = Grid(\n",
       "        goal = nothing, \n",
       "        resolution = 10, \n",
       "        shuffle = true, \n",
       "        rng = Random._GLOBAL_RNG()), \n",
       "  resampling = Holdout(\n",
       "        fraction_train = 0.7, \n",
       "        shuffle = false, \n",
       "        rng = Random._GLOBAL_RNG()), \n",
       "  measure = Accuracy(), \n",
       "  weights = nothing, \n",
       "  class_weights = nothing, \n",
       "  operation = nothing, \n",
       "  range = NumericRange(0 ≤ max_depth ≤ 8; origin=4.0, unit=4.0), \n",
       "  selection_heuristic = MLJTuning.NaiveSelection(nothing), \n",
       "  train_best = true, \n",
       "  repeats = 1, \n",
       "  n = nothing, \n",
       "  acceleration = CPU1{Nothing}(nothing), \n",
       "  acceleration_resampling = CPU1{Nothing}(nothing), \n",
       "  check_measure = true, \n",
       "  cache = true)"
      ]
     },
     "metadata": {},
     "output_type": "display_data"
    }
   ],
   "source": [
    "tuned_tree = TunedModel(\n",
    "    tree,\n",
    "    tuning=Grid(),\n",
    "    range=r,\n",
    "    measure=accuracy,\n",
    "    resampling=Holdout(fraction_train=0.7),\n",
    ")"
   ]
  },
  {
   "attachments": {},
   "cell_type": "markdown",
   "metadata": {},
   "source": [
    "The new model `tuned_tree` behaves like the old, except the `max_depth` hyperparameter effectively becomes a learned parameter instead.\n",
    "\n",
    "Training this `tuned_tree` actually performs two operations, under the hood:\n",
    " - Search for the best model using an internally constructed holdout set;\n",
    " - Retrain the \"best\" model on all available data"
   ]
  },
  {
   "cell_type": "code",
   "execution_count": 25,
   "metadata": {},
   "outputs": [
    {
     "name": "stderr",
     "output_type": "stream",
     "text": [
      "┌ Info: Training machine(ProbabilisticTunedModel(model = DecisionTreeClassifier(max_depth = 10, …), …), …).\n",
      "└ @ MLJBase C:\\Users\\luked\\.julia\\packages\\MLJBase\\fEiP2\\src\\machines.jl:492\n"
     ]
    },
    {
     "name": "stderr",
     "output_type": "stream",
     "text": [
      "┌ Info: Attempting to evaluate 9 models.\n",
      "└ @ MLJTuning C:\\Users\\luked\\.julia\\packages\\MLJTuning\\nZnsJ\\src\\tuned_models.jl:727\n"
     ]
    },
    {
     "name": "stderr",
     "output_type": "stream",
     "text": [
      "\r\u001b[33mEvaluating over 9 metamodels:  22%[=====>                   ]  ETA: 0:00:12\u001b[39m\u001b[K"
     ]
    },
    {
     "name": "stderr",
     "output_type": "stream",
     "text": [
      "\r\u001b[33mEvaluating over 9 metamodels: 100%[=========================] Time: 0:00:03\u001b[39m\u001b[K\n"
     ]
    },
    {
     "data": {
      "text/plain": [
       "trained Machine; does not cache data\n",
       "  model: ProbabilisticTunedModel(model = DecisionTreeClassifier(max_depth = 10, …), …)\n",
       "  args: \n",
       "    1:\tSource @378 ⏎ Table{Union{AbstractVector{Continuous}, AbstractVector{Count}, AbstractVector{Multiclass{3}}, AbstractVector{Multiclass{2}}, AbstractVector{Union{Missing, Multiclass{3}}}}}\n",
       "    2:\tSource @011 ⏎ AbstractVector{Multiclass{2}}\n"
      ]
     },
     "metadata": {},
     "output_type": "display_data"
    }
   ],
   "source": [
    "mach2 = machine(tuned_tree, X, y)\n",
    "fit!(mach2)"
   ]
  },
  {
   "attachments": {},
   "cell_type": "markdown",
   "metadata": {},
   "source": [
    "Here's how we can see what the optimal model actually is:"
   ]
  },
  {
   "cell_type": "code",
   "execution_count": 26,
   "metadata": {},
   "outputs": [
    {
     "data": {
      "text/plain": [
       "DecisionTreeClassifier(\n",
       "  max_depth = 6, \n",
       "  min_gain = 0.0, \n",
       "  min_records = 2, \n",
       "  max_features = 0, \n",
       "  splitting_criterion = BetaML.Utils.gini, \n",
       "  rng = Random._GLOBAL_RNG())"
      ]
     },
     "metadata": {},
     "output_type": "display_data"
    }
   ],
   "source": [
    "fitted_params(mach2).best_model"
   ]
  },
  {
   "attachments": {},
   "cell_type": "markdown",
   "metadata": {},
   "source": [
    "Finally, let's test the self-tuning model on our existing holdout set:"
   ]
  },
  {
   "cell_type": "code",
   "execution_count": 27,
   "metadata": {},
   "outputs": [
    {
     "data": {
      "text/plain": [
       "0.8164794007490637"
      ]
     },
     "metadata": {},
     "output_type": "display_data"
    }
   ],
   "source": [
    "yhat2 = mode.(predict(mach2, X_test))\n",
    "accuracy(yhat2, y_test)"
   ]
  },
  {
   "cell_type": "code",
   "execution_count": 28,
   "metadata": {},
   "outputs": [],
   "source": []
  }
 ],
 "metadata": {
  "kernelspec": {
   "display_name": "Julia 1.9.3",
   "language": "julia",
   "name": "julia-1.9"
  },
  "language_info": {
   "file_extension": ".jl",
   "mimetype": "application/julia",
   "name": "julia",
   "version": "1.9.3"
  },
  "orig_nbformat": 4
 },
 "nbformat": 4,
 "nbformat_minor": 2
}
