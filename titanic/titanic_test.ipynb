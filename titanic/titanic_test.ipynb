{
 "cells": [
  {
   "cell_type": "markdown",
   "metadata": {},
   "source": [
    "## Package Installation & Importing"
   ]
  },
  {
   "cell_type": "code",
   "execution_count": 1,
   "metadata": {},
   "outputs": [
    {
     "name": "stderr",
     "output_type": "stream",
     "text": [
      "\u001b[32m\u001b[1m  Activating\u001b[22m\u001b[39m project at `C:\\Users\\luked\\.julia\\environments\\titanic`"
     ]
    },
    {
     "name": "stderr",
     "output_type": "stream",
     "text": [
      "\n"
     ]
    }
   ],
   "source": [
    "#Activate the 'titanic' package environment\n",
    "using Pkg\n",
    "Pkg.activate(\"titanic\", shared=true)"
   ]
  },
  {
   "cell_type": "markdown",
   "metadata": {},
   "source": [
    "Open up a Julia REPL and run the following:\n",
    "\n",
    "```Julia\n",
    "] add MLJ DataFrames BetaML\n",
    "```"
   ]
  },
  {
   "cell_type": "code",
   "execution_count": 25,
   "metadata": {},
   "outputs": [],
   "source": [
    "using MLJ, GLMakie\n",
    "import DataFrames as DF"
   ]
  },
  {
   "cell_type": "code",
   "execution_count": 26,
   "metadata": {},
   "outputs": [
    {
     "data": {
      "text/html": [
       "<div><div style = \"float: left;\"><span>891×8 DataFrame</span></div><div style = \"float: right;\"><span style = \"font-style: italic;\">866 rows omitted</span></div><div style = \"clear: both;\"></div></div><div class = \"data-frame\" style = \"overflow-x: scroll;\"><table class = \"data-frame\" style = \"margin-bottom: 6px;\"><thead><tr class = \"header\"><th class = \"rowNumber\" style = \"font-weight: bold; text-align: right;\">Row</th><th style = \"text-align: left;\">pclass</th><th style = \"text-align: left;\">sex</th><th style = \"text-align: left;\">age</th><th style = \"text-align: left;\">sibsp</th><th style = \"text-align: left;\">fare</th><th style = \"text-align: left;\">cabin</th><th style = \"text-align: left;\">embarked</th><th style = \"text-align: left;\">survived</th></tr><tr class = \"subheader headerLastRow\"><th class = \"rowNumber\" style = \"font-weight: bold; text-align: right;\"></th><th title = \"CategoricalArrays.CategoricalValue{String, UInt32}\" style = \"text-align: left;\">Cat…</th><th title = \"CategoricalArrays.CategoricalValue{String, UInt32}\" style = \"text-align: left;\">Cat…</th><th title = \"Float64\" style = \"text-align: left;\">Float64</th><th title = \"Float64\" style = \"text-align: left;\">Float64</th><th title = \"Float64\" style = \"text-align: left;\">Float64</th><th title = \"Union{Missing, CategoricalArrays.CategoricalValue{String, UInt32}}\" style = \"text-align: left;\">Cat…?</th><th title = \"Union{Missing, CategoricalArrays.CategoricalValue{String, UInt32}}\" style = \"text-align: left;\">Cat…?</th><th title = \"CategoricalArrays.CategoricalValue{String, UInt32}\" style = \"text-align: left;\">Cat…</th></tr></thead><tbody><tr><td class = \"rowNumber\" style = \"font-weight: bold; text-align: right;\">1</td><td style = \"text-align: left;\">3</td><td style = \"text-align: left;\">male</td><td style = \"text-align: right;\">22.0</td><td style = \"text-align: right;\">1.0</td><td style = \"text-align: right;\">7.25</td><td style = \"font-style: italic; text-align: left;\">missing</td><td style = \"text-align: left;\">S</td><td style = \"text-align: left;\">0</td></tr><tr><td class = \"rowNumber\" style = \"font-weight: bold; text-align: right;\">2</td><td style = \"text-align: left;\">1</td><td style = \"text-align: left;\">female</td><td style = \"text-align: right;\">38.0</td><td style = \"text-align: right;\">1.0</td><td style = \"text-align: right;\">71.2833</td><td style = \"text-align: left;\">C85</td><td style = \"text-align: left;\">C</td><td style = \"text-align: left;\">1</td></tr><tr><td class = \"rowNumber\" style = \"font-weight: bold; text-align: right;\">3</td><td style = \"text-align: left;\">3</td><td style = \"text-align: left;\">female</td><td style = \"text-align: right;\">26.0</td><td style = \"text-align: right;\">0.0</td><td style = \"text-align: right;\">7.925</td><td style = \"font-style: italic; text-align: left;\">missing</td><td style = \"text-align: left;\">S</td><td style = \"text-align: left;\">1</td></tr><tr><td class = \"rowNumber\" style = \"font-weight: bold; text-align: right;\">4</td><td style = \"text-align: left;\">1</td><td style = \"text-align: left;\">female</td><td style = \"text-align: right;\">35.0</td><td style = \"text-align: right;\">1.0</td><td style = \"text-align: right;\">53.1</td><td style = \"text-align: left;\">C123</td><td style = \"text-align: left;\">S</td><td style = \"text-align: left;\">1</td></tr><tr><td class = \"rowNumber\" style = \"font-weight: bold; text-align: right;\">5</td><td style = \"text-align: left;\">3</td><td style = \"text-align: left;\">male</td><td style = \"text-align: right;\">35.0</td><td style = \"text-align: right;\">0.0</td><td style = \"text-align: right;\">8.05</td><td style = \"font-style: italic; text-align: left;\">missing</td><td style = \"text-align: left;\">S</td><td style = \"text-align: left;\">0</td></tr><tr><td class = \"rowNumber\" style = \"font-weight: bold; text-align: right;\">6</td><td style = \"text-align: left;\">3</td><td style = \"text-align: left;\">male</td><td style = \"text-align: right;\">30.0</td><td style = \"text-align: right;\">0.0</td><td style = \"text-align: right;\">8.4583</td><td style = \"font-style: italic; text-align: left;\">missing</td><td style = \"text-align: left;\">Q</td><td style = \"text-align: left;\">0</td></tr><tr><td class = \"rowNumber\" style = \"font-weight: bold; text-align: right;\">7</td><td style = \"text-align: left;\">1</td><td style = \"text-align: left;\">male</td><td style = \"text-align: right;\">54.0</td><td style = \"text-align: right;\">0.0</td><td style = \"text-align: right;\">51.8625</td><td style = \"text-align: left;\">E46</td><td style = \"text-align: left;\">S</td><td style = \"text-align: left;\">0</td></tr><tr><td class = \"rowNumber\" style = \"font-weight: bold; text-align: right;\">8</td><td style = \"text-align: left;\">3</td><td style = \"text-align: left;\">male</td><td style = \"text-align: right;\">2.0</td><td style = \"text-align: right;\">3.0</td><td style = \"text-align: right;\">21.075</td><td style = \"font-style: italic; text-align: left;\">missing</td><td style = \"text-align: left;\">S</td><td style = \"text-align: left;\">0</td></tr><tr><td class = \"rowNumber\" style = \"font-weight: bold; text-align: right;\">9</td><td style = \"text-align: left;\">3</td><td style = \"text-align: left;\">female</td><td style = \"text-align: right;\">27.0</td><td style = \"text-align: right;\">0.0</td><td style = \"text-align: right;\">11.1333</td><td style = \"font-style: italic; text-align: left;\">missing</td><td style = \"text-align: left;\">S</td><td style = \"text-align: left;\">1</td></tr><tr><td class = \"rowNumber\" style = \"font-weight: bold; text-align: right;\">10</td><td style = \"text-align: left;\">2</td><td style = \"text-align: left;\">female</td><td style = \"text-align: right;\">14.0</td><td style = \"text-align: right;\">1.0</td><td style = \"text-align: right;\">30.0708</td><td style = \"font-style: italic; text-align: left;\">missing</td><td style = \"text-align: left;\">C</td><td style = \"text-align: left;\">1</td></tr><tr><td class = \"rowNumber\" style = \"font-weight: bold; text-align: right;\">11</td><td style = \"text-align: left;\">3</td><td style = \"text-align: left;\">female</td><td style = \"text-align: right;\">4.0</td><td style = \"text-align: right;\">1.0</td><td style = \"text-align: right;\">16.7</td><td style = \"text-align: left;\">G6</td><td style = \"text-align: left;\">S</td><td style = \"text-align: left;\">1</td></tr><tr><td class = \"rowNumber\" style = \"font-weight: bold; text-align: right;\">12</td><td style = \"text-align: left;\">1</td><td style = \"text-align: left;\">female</td><td style = \"text-align: right;\">58.0</td><td style = \"text-align: right;\">0.0</td><td style = \"text-align: right;\">26.55</td><td style = \"text-align: left;\">C103</td><td style = \"text-align: left;\">S</td><td style = \"text-align: left;\">1</td></tr><tr><td class = \"rowNumber\" style = \"font-weight: bold; text-align: right;\">13</td><td style = \"text-align: left;\">3</td><td style = \"text-align: left;\">male</td><td style = \"text-align: right;\">20.0</td><td style = \"text-align: right;\">0.0</td><td style = \"text-align: right;\">8.05</td><td style = \"font-style: italic; text-align: left;\">missing</td><td style = \"text-align: left;\">S</td><td style = \"text-align: left;\">0</td></tr><tr><td style = \"text-align: right;\">&vellip;</td><td style = \"text-align: right;\">&vellip;</td><td style = \"text-align: right;\">&vellip;</td><td style = \"text-align: right;\">&vellip;</td><td style = \"text-align: right;\">&vellip;</td><td style = \"text-align: right;\">&vellip;</td><td style = \"text-align: right;\">&vellip;</td><td style = \"text-align: right;\">&vellip;</td><td style = \"text-align: right;\">&vellip;</td></tr><tr><td class = \"rowNumber\" style = \"font-weight: bold; text-align: right;\">880</td><td style = \"text-align: left;\">1</td><td style = \"text-align: left;\">female</td><td style = \"text-align: right;\">56.0</td><td style = \"text-align: right;\">0.0</td><td style = \"text-align: right;\">83.1583</td><td style = \"font-style: italic; text-align: left;\">C50</td><td style = \"text-align: left;\">C</td><td style = \"text-align: left;\">1</td></tr><tr><td class = \"rowNumber\" style = \"font-weight: bold; text-align: right;\">881</td><td style = \"text-align: left;\">2</td><td style = \"text-align: left;\">female</td><td style = \"text-align: right;\">25.0</td><td style = \"text-align: right;\">0.0</td><td style = \"text-align: right;\">26.0</td><td style = \"font-style: italic; text-align: left;\">missing</td><td style = \"text-align: left;\">S</td><td style = \"text-align: left;\">1</td></tr><tr><td class = \"rowNumber\" style = \"font-weight: bold; text-align: right;\">882</td><td style = \"text-align: left;\">3</td><td style = \"text-align: left;\">male</td><td style = \"text-align: right;\">33.0</td><td style = \"text-align: right;\">0.0</td><td style = \"text-align: right;\">7.8958</td><td style = \"font-style: italic; text-align: left;\">missing</td><td style = \"text-align: left;\">S</td><td style = \"text-align: left;\">0</td></tr><tr><td class = \"rowNumber\" style = \"font-weight: bold; text-align: right;\">883</td><td style = \"text-align: left;\">3</td><td style = \"text-align: left;\">female</td><td style = \"text-align: right;\">22.0</td><td style = \"text-align: right;\">0.0</td><td style = \"text-align: right;\">10.5167</td><td style = \"font-style: italic; text-align: left;\">missing</td><td style = \"text-align: left;\">S</td><td style = \"text-align: left;\">0</td></tr><tr><td class = \"rowNumber\" style = \"font-weight: bold; text-align: right;\">884</td><td style = \"text-align: left;\">2</td><td style = \"text-align: left;\">male</td><td style = \"text-align: right;\">28.0</td><td style = \"text-align: right;\">0.0</td><td style = \"text-align: right;\">10.5</td><td style = \"font-style: italic; text-align: left;\">missing</td><td style = \"text-align: left;\">S</td><td style = \"text-align: left;\">0</td></tr><tr><td class = \"rowNumber\" style = \"font-weight: bold; text-align: right;\">885</td><td style = \"text-align: left;\">3</td><td style = \"text-align: left;\">male</td><td style = \"text-align: right;\">25.0</td><td style = \"text-align: right;\">0.0</td><td style = \"text-align: right;\">7.05</td><td style = \"font-style: italic; text-align: left;\">missing</td><td style = \"text-align: left;\">S</td><td style = \"text-align: left;\">0</td></tr><tr><td class = \"rowNumber\" style = \"font-weight: bold; text-align: right;\">886</td><td style = \"text-align: left;\">3</td><td style = \"text-align: left;\">female</td><td style = \"text-align: right;\">39.0</td><td style = \"text-align: right;\">0.0</td><td style = \"text-align: right;\">29.125</td><td style = \"font-style: italic; text-align: left;\">missing</td><td style = \"text-align: left;\">Q</td><td style = \"text-align: left;\">0</td></tr><tr><td class = \"rowNumber\" style = \"font-weight: bold; text-align: right;\">887</td><td style = \"text-align: left;\">2</td><td style = \"text-align: left;\">male</td><td style = \"text-align: right;\">27.0</td><td style = \"text-align: right;\">0.0</td><td style = \"text-align: right;\">13.0</td><td style = \"font-style: italic; text-align: left;\">missing</td><td style = \"text-align: left;\">S</td><td style = \"text-align: left;\">0</td></tr><tr><td class = \"rowNumber\" style = \"font-weight: bold; text-align: right;\">888</td><td style = \"text-align: left;\">1</td><td style = \"text-align: left;\">female</td><td style = \"text-align: right;\">19.0</td><td style = \"text-align: right;\">0.0</td><td style = \"text-align: right;\">30.0</td><td style = \"text-align: left;\">B42</td><td style = \"text-align: left;\">S</td><td style = \"text-align: left;\">1</td></tr><tr><td class = \"rowNumber\" style = \"font-weight: bold; text-align: right;\">889</td><td style = \"text-align: left;\">3</td><td style = \"text-align: left;\">female</td><td style = \"text-align: right;\">30.0</td><td style = \"text-align: right;\">1.0</td><td style = \"text-align: right;\">23.45</td><td style = \"font-style: italic; text-align: left;\">missing</td><td style = \"text-align: left;\">S</td><td style = \"text-align: left;\">0</td></tr><tr><td class = \"rowNumber\" style = \"font-weight: bold; text-align: right;\">890</td><td style = \"text-align: left;\">1</td><td style = \"text-align: left;\">male</td><td style = \"text-align: right;\">26.0</td><td style = \"text-align: right;\">0.0</td><td style = \"text-align: right;\">30.0</td><td style = \"text-align: left;\">C148</td><td style = \"text-align: left;\">C</td><td style = \"text-align: left;\">1</td></tr><tr><td class = \"rowNumber\" style = \"font-weight: bold; text-align: right;\">891</td><td style = \"text-align: left;\">3</td><td style = \"text-align: left;\">male</td><td style = \"text-align: right;\">32.0</td><td style = \"text-align: right;\">0.0</td><td style = \"text-align: right;\">7.75</td><td style = \"font-style: italic; text-align: left;\">missing</td><td style = \"text-align: left;\">Q</td><td style = \"text-align: left;\">0</td></tr></tbody></table></div>"
      ],
      "text/latex": [
       "\\begin{tabular}{r|cccccccc}\n",
       "\t& pclass & sex & age & sibsp & fare & cabin & embarked & survived\\\\\n",
       "\t\\hline\n",
       "\t& Cat… & Cat… & Float64 & Float64 & Float64 & Cat…? & Cat…? & Cat…\\\\\n",
       "\t\\hline\n",
       "\t1 & 3 & male & 22.0 & 1.0 & 7.25 & \\emph{missing} & S & 0 \\\\\n",
       "\t2 & 1 & female & 38.0 & 1.0 & 71.2833 & C85 & C & 1 \\\\\n",
       "\t3 & 3 & female & 26.0 & 0.0 & 7.925 & \\emph{missing} & S & 1 \\\\\n",
       "\t4 & 1 & female & 35.0 & 1.0 & 53.1 & C123 & S & 1 \\\\\n",
       "\t5 & 3 & male & 35.0 & 0.0 & 8.05 & \\emph{missing} & S & 0 \\\\\n",
       "\t6 & 3 & male & 30.0 & 0.0 & 8.4583 & \\emph{missing} & Q & 0 \\\\\n",
       "\t7 & 1 & male & 54.0 & 0.0 & 51.8625 & E46 & S & 0 \\\\\n",
       "\t8 & 3 & male & 2.0 & 3.0 & 21.075 & \\emph{missing} & S & 0 \\\\\n",
       "\t9 & 3 & female & 27.0 & 0.0 & 11.1333 & \\emph{missing} & S & 1 \\\\\n",
       "\t10 & 2 & female & 14.0 & 1.0 & 30.0708 & \\emph{missing} & C & 1 \\\\\n",
       "\t11 & 3 & female & 4.0 & 1.0 & 16.7 & G6 & S & 1 \\\\\n",
       "\t12 & 1 & female & 58.0 & 0.0 & 26.55 & C103 & S & 1 \\\\\n",
       "\t13 & 3 & male & 20.0 & 0.0 & 8.05 & \\emph{missing} & S & 0 \\\\\n",
       "\t14 & 3 & male & 39.0 & 1.0 & 31.275 & \\emph{missing} & S & 0 \\\\\n",
       "\t15 & 3 & female & 14.0 & 0.0 & 7.8542 & \\emph{missing} & S & 0 \\\\\n",
       "\t16 & 2 & female & 55.0 & 0.0 & 16.0 & \\emph{missing} & S & 1 \\\\\n",
       "\t17 & 3 & male & 2.0 & 4.0 & 29.125 & \\emph{missing} & Q & 0 \\\\\n",
       "\t18 & 2 & male & 30.0 & 0.0 & 13.0 & \\emph{missing} & S & 1 \\\\\n",
       "\t19 & 3 & female & 31.0 & 1.0 & 18.0 & \\emph{missing} & S & 0 \\\\\n",
       "\t20 & 3 & female & 30.0 & 0.0 & 7.225 & \\emph{missing} & C & 1 \\\\\n",
       "\t21 & 2 & male & 35.0 & 0.0 & 26.0 & \\emph{missing} & S & 0 \\\\\n",
       "\t22 & 2 & male & 34.0 & 0.0 & 13.0 & D56 & S & 1 \\\\\n",
       "\t23 & 3 & female & 15.0 & 0.0 & 8.0292 & \\emph{missing} & Q & 1 \\\\\n",
       "\t24 & 1 & male & 28.0 & 0.0 & 35.5 & A6 & S & 1 \\\\\n",
       "\t$\\dots$ & $\\dots$ & $\\dots$ & $\\dots$ & $\\dots$ & $\\dots$ & $\\dots$ & $\\dots$ & $\\dots$ \\\\\n",
       "\\end{tabular}\n"
      ],
      "text/plain": [
       "\u001b[1m891×8 DataFrame\u001b[0m\n",
       "\u001b[1m Row \u001b[0m│\u001b[1m pclass \u001b[0m\u001b[1m sex    \u001b[0m\u001b[1m age     \u001b[0m\u001b[1m sibsp   \u001b[0m\u001b[1m fare    \u001b[0m\u001b[1m cabin   \u001b[0m\u001b[1m embarked \u001b[0m\u001b[1m survived \u001b[0m\n",
       "     │\u001b[90m Cat…   \u001b[0m\u001b[90m Cat…   \u001b[0m\u001b[90m Float64 \u001b[0m\u001b[90m Float64 \u001b[0m\u001b[90m Float64 \u001b[0m\u001b[90m Cat…?   \u001b[0m\u001b[90m Cat…?    \u001b[0m\u001b[90m Cat…     \u001b[0m\n",
       "─────┼────────────────────────────────────────────────────────────────────────\n",
       "   1 │ 3       male       22.0      1.0   7.25   \u001b[90m missing \u001b[0m S         0\n",
       "   2 │ 1       female     38.0      1.0  71.2833  C85      C         1\n",
       "   3 │ 3       female     26.0      0.0   7.925  \u001b[90m missing \u001b[0m S         1\n",
       "   4 │ 1       female     35.0      1.0  53.1     C123     S         1\n",
       "   5 │ 3       male       35.0      0.0   8.05   \u001b[90m missing \u001b[0m S         0\n",
       "   6 │ 3       male       30.0      0.0   8.4583 \u001b[90m missing \u001b[0m Q         0\n",
       "   7 │ 1       male       54.0      0.0  51.8625  E46      S         0\n",
       "   8 │ 3       male        2.0      3.0  21.075  \u001b[90m missing \u001b[0m S         0\n",
       "  ⋮  │   ⋮       ⋮        ⋮        ⋮        ⋮        ⋮        ⋮         ⋮\n",
       " 885 │ 3       male       25.0      0.0   7.05   \u001b[90m missing \u001b[0m S         0\n",
       " 886 │ 3       female     39.0      0.0  29.125  \u001b[90m missing \u001b[0m Q         0\n",
       " 887 │ 2       male       27.0      0.0  13.0    \u001b[90m missing \u001b[0m S         0\n",
       " 888 │ 1       female     19.0      0.0  30.0     B42      S         1\n",
       " 889 │ 3       female     30.0      1.0  23.45   \u001b[90m missing \u001b[0m S         0\n",
       " 890 │ 1       male       26.0      0.0  30.0     C148     C         1\n",
       " 891 │ 3       male       32.0      0.0   7.75   \u001b[90m missing \u001b[0m Q         0\n",
       "\u001b[36m                                                              876 rows omitted\u001b[0m"
      ]
     },
     "metadata": {},
     "output_type": "display_data"
    }
   ],
   "source": [
    "table = OpenML.load(42638)\n",
    "df = DF.DataFrame(table)"
   ]
  },
  {
   "cell_type": "markdown",
   "metadata": {},
   "source": [
    "## Inspect Data"
   ]
  },
  {
   "cell_type": "code",
   "execution_count": 27,
   "metadata": {},
   "outputs": [
    {
     "data": {
      "text/html": [
       "<div><div style = \"float: left;\"><span>8×7 DataFrame</span></div><div style = \"clear: both;\"></div></div><div class = \"data-frame\" style = \"overflow-x: scroll;\"><table class = \"data-frame\" style = \"margin-bottom: 6px;\"><thead><tr class = \"header\"><th class = \"rowNumber\" style = \"font-weight: bold; text-align: right;\">Row</th><th style = \"text-align: left;\">variable</th><th style = \"text-align: left;\">mean</th><th style = \"text-align: left;\">min</th><th style = \"text-align: left;\">median</th><th style = \"text-align: left;\">max</th><th style = \"text-align: left;\">nmissing</th><th style = \"text-align: left;\">eltype</th></tr><tr class = \"subheader headerLastRow\"><th class = \"rowNumber\" style = \"font-weight: bold; text-align: right;\"></th><th title = \"Symbol\" style = \"text-align: left;\">Symbol</th><th title = \"Union{Nothing, Float64}\" style = \"text-align: left;\">Union…</th><th title = \"Any\" style = \"text-align: left;\">Any</th><th title = \"Union{Nothing, Float64}\" style = \"text-align: left;\">Union…</th><th title = \"Any\" style = \"text-align: left;\">Any</th><th title = \"Int64\" style = \"text-align: left;\">Int64</th><th title = \"Type\" style = \"text-align: left;\">Type</th></tr></thead><tbody><tr><td class = \"rowNumber\" style = \"font-weight: bold; text-align: right;\">1</td><td style = \"text-align: left;\">pclass</td><td style = \"font-style: italic; text-align: left;\"></td><td style = \"text-align: left;\">1</td><td style = \"font-style: italic; text-align: left;\"></td><td style = \"text-align: left;\">3</td><td style = \"text-align: right;\">0</td><td style = \"text-align: left;\">CategoricalValue{String, UInt32}</td></tr><tr><td class = \"rowNumber\" style = \"font-weight: bold; text-align: right;\">2</td><td style = \"text-align: left;\">sex</td><td style = \"font-style: italic; text-align: left;\"></td><td style = \"text-align: left;\">female</td><td style = \"font-style: italic; text-align: left;\"></td><td style = \"text-align: left;\">male</td><td style = \"text-align: right;\">0</td><td style = \"text-align: left;\">CategoricalValue{String, UInt32}</td></tr><tr><td class = \"rowNumber\" style = \"font-weight: bold; text-align: right;\">3</td><td style = \"text-align: left;\">age</td><td style = \"text-align: left;\">29.7589</td><td style = \"text-align: left;\">0.42</td><td style = \"text-align: left;\">30.0</td><td style = \"text-align: left;\">80.0</td><td style = \"text-align: right;\">0</td><td style = \"text-align: left;\">Float64</td></tr><tr><td class = \"rowNumber\" style = \"font-weight: bold; text-align: right;\">4</td><td style = \"text-align: left;\">sibsp</td><td style = \"text-align: left;\">0.523008</td><td style = \"text-align: left;\">0.0</td><td style = \"text-align: left;\">0.0</td><td style = \"text-align: left;\">8.0</td><td style = \"text-align: right;\">0</td><td style = \"text-align: left;\">Float64</td></tr><tr><td class = \"rowNumber\" style = \"font-weight: bold; text-align: right;\">5</td><td style = \"text-align: left;\">fare</td><td style = \"text-align: left;\">32.2042</td><td style = \"text-align: left;\">0.0</td><td style = \"text-align: left;\">14.4542</td><td style = \"text-align: left;\">512.329</td><td style = \"text-align: right;\">0</td><td style = \"text-align: left;\">Float64</td></tr><tr><td class = \"rowNumber\" style = \"font-weight: bold; text-align: right;\">6</td><td style = \"text-align: left;\">cabin</td><td style = \"font-style: italic; text-align: left;\"></td><td style = \"text-align: left;\">E31</td><td style = \"font-style: italic; text-align: left;\"></td><td style = \"text-align: left;\">C148</td><td style = \"text-align: right;\">687</td><td style = \"text-align: left;\">Union{Missing, CategoricalValue{String, UInt32}}</td></tr><tr><td class = \"rowNumber\" style = \"font-weight: bold; text-align: right;\">7</td><td style = \"text-align: left;\">embarked</td><td style = \"font-style: italic; text-align: left;\"></td><td style = \"text-align: left;\">C</td><td style = \"font-style: italic; text-align: left;\"></td><td style = \"text-align: left;\">S</td><td style = \"text-align: right;\">2</td><td style = \"text-align: left;\">Union{Missing, CategoricalValue{String, UInt32}}</td></tr><tr><td class = \"rowNumber\" style = \"font-weight: bold; text-align: right;\">8</td><td style = \"text-align: left;\">survived</td><td style = \"font-style: italic; text-align: left;\"></td><td style = \"text-align: left;\">0</td><td style = \"font-style: italic; text-align: left;\"></td><td style = \"text-align: left;\">1</td><td style = \"text-align: right;\">0</td><td style = \"text-align: left;\">CategoricalValue{String, UInt32}</td></tr></tbody></table></div>"
      ],
      "text/latex": [
       "\\begin{tabular}{r|ccccccc}\n",
       "\t& variable & mean & min & median & max & nmissing & eltype\\\\\n",
       "\t\\hline\n",
       "\t& Symbol & Union… & Any & Union… & Any & Int64 & Type\\\\\n",
       "\t\\hline\n",
       "\t1 & pclass &  & 1 &  & 3 & 0 & CategoricalValue\\{String, UInt32\\} \\\\\n",
       "\t2 & sex &  & female &  & male & 0 & CategoricalValue\\{String, UInt32\\} \\\\\n",
       "\t3 & age & 29.7589 & 0.42 & 30.0 & 80.0 & 0 & Float64 \\\\\n",
       "\t4 & sibsp & 0.523008 & 0.0 & 0.0 & 8.0 & 0 & Float64 \\\\\n",
       "\t5 & fare & 32.2042 & 0.0 & 14.4542 & 512.329 & 0 & Float64 \\\\\n",
       "\t6 & cabin &  & E31 &  & C148 & 687 & Union\\{Missing, CategoricalValue\\{String, UInt32\\}\\} \\\\\n",
       "\t7 & embarked &  & C &  & S & 2 & Union\\{Missing, CategoricalValue\\{String, UInt32\\}\\} \\\\\n",
       "\t8 & survived &  & 0 &  & 1 & 0 & CategoricalValue\\{String, UInt32\\} \\\\\n",
       "\\end{tabular}\n"
      ],
      "text/plain": [
       "\u001b[1m8×7 DataFrame\u001b[0m\n",
       "\u001b[1m Row \u001b[0m│\u001b[1m variable \u001b[0m\u001b[1m mean     \u001b[0m\u001b[1m min    \u001b[0m\u001b[1m median  \u001b[0m\u001b[1m max     \u001b[0m\u001b[1m nmissing \u001b[0m\u001b[1m eltype         \u001b[0m ⋯\n",
       "     │\u001b[90m Symbol   \u001b[0m\u001b[90m Union…   \u001b[0m\u001b[90m Any    \u001b[0m\u001b[90m Union…  \u001b[0m\u001b[90m Any     \u001b[0m\u001b[90m Int64    \u001b[0m\u001b[90m Type           \u001b[0m ⋯\n",
       "─────┼──────────────────────────────────────────────────────────────────────────\n",
       "   1 │ pclass   \u001b[90m          \u001b[0m 1      \u001b[90m         \u001b[0m 3               0  CategoricalValu ⋯\n",
       "   2 │ sex      \u001b[90m          \u001b[0m female \u001b[90m         \u001b[0m male            0  CategoricalValu\n",
       "   3 │ age       29.7589   0.42    30.0     80.0            0  Float64\n",
       "   4 │ sibsp     0.523008  0.0     0.0      8.0             0  Float64\n",
       "   5 │ fare      32.2042   0.0     14.4542  512.329         0  Float64         ⋯\n",
       "   6 │ cabin    \u001b[90m          \u001b[0m E31    \u001b[90m         \u001b[0m C148          687  Union{Missing,\n",
       "   7 │ embarked \u001b[90m          \u001b[0m C      \u001b[90m         \u001b[0m S               2  Union{Missing,\n",
       "   8 │ survived \u001b[90m          \u001b[0m 0      \u001b[90m         \u001b[0m 1               0  CategoricalValu\n",
       "\u001b[36m                                                                1 column omitted\u001b[0m"
      ]
     },
     "metadata": {},
     "output_type": "display_data"
    }
   ],
   "source": [
    "DF.describe(df)"
   ]
  },
  {
   "cell_type": "code",
   "execution_count": 28,
   "metadata": {},
   "outputs": [
    {
     "data": {
      "text/plain": [
       "┌──────────┬─────────────────────────────────┬──────────────────────────────────\n",
       "│\u001b[22m names    \u001b[0m│\u001b[22m scitypes                        \u001b[0m│\u001b[22m types                          \u001b[0m ⋯\n",
       "├──────────┼─────────────────────────────────┼──────────────────────────────────\n",
       "│ pclass   │ Multiclass{3}                   │ CategoricalValue{String, UInt32 ⋯\n",
       "│ sex      │ Multiclass{2}                   │ CategoricalValue{String, UInt32 ⋯\n",
       "│ age      │ Continuous                      │ Float64                         ⋯\n",
       "│ sibsp    │ Continuous                      │ Float64                         ⋯\n",
       "│ fare     │ Continuous                      │ Float64                         ⋯\n",
       "│ cabin    │ Union{Missing, Multiclass{186}} │ Union{Missing, CategoricalValue ⋯\n",
       "│ embarked │ Union{Missing, Multiclass{3}}   │ Union{Missing, CategoricalValue ⋯\n",
       "│ survived │ Multiclass{2}                   │ CategoricalValue{String, UInt32 ⋯\n",
       "└──────────┴─────────────────────────────────┴──────────────────────────────────\n",
       "\u001b[36m                                                                1 column omitted\u001b[0m\n"
      ]
     },
     "metadata": {},
     "output_type": "display_data"
    }
   ],
   "source": [
    "schema(df)"
   ]
  },
  {
   "cell_type": "code",
   "execution_count": 52,
   "metadata": {},
   "outputs": [],
   "source": [
    "fig = Figure(resolution=(1920, 1080))\n",
    "\n",
    "ax1 = fig[1,1] = Axis(fig,\n",
    "                      #aspect = 1, targetlimits = BBox(-10, 10, -10, 10),\n",
    "                      #title = \"EDA\", titlegap = 48, titlesize = 60,\n",
    "                      #xautolimitmargin = (0,0), xgridwith=2, xticklabelsize = 36,\n",
    "                      #xticks = LinearTicks(20), xticksize = 18,\n",
    "                      #yautolimitmargin = (0, 0), ygridwidth = 2, yticklabelpad = 14,\n",
    "                      #yticklabelsize = 36, yticks = LinearTicks(20), yticksize = 18\n",
    "                      )"
   ]
  },
  {
   "cell_type": "markdown",
   "metadata": {},
   "source": [
    "## Feature Engineering"
   ]
  },
  {
   "cell_type": "markdown",
   "metadata": {},
   "source": [
    "### sibsp"
   ]
  },
  {
   "cell_type": "code",
   "execution_count": 29,
   "metadata": {},
   "outputs": [
    {
     "data": {
      "text/plain": [
       "┌──────────┬─────────────────────────────────┬──────────────────────────────────\n",
       "│\u001b[22m names    \u001b[0m│\u001b[22m scitypes                        \u001b[0m│\u001b[22m types                          \u001b[0m ⋯\n",
       "├──────────┼─────────────────────────────────┼──────────────────────────────────\n",
       "│ pclass   │ Multiclass{3}                   │ CategoricalValue{String, UInt32 ⋯\n",
       "│ sex      │ Multiclass{2}                   │ CategoricalValue{String, UInt32 ⋯\n",
       "│ age      │ Continuous                      │ Float64                         ⋯\n",
       "│ sibsp    │ Count                           │ Int64                           ⋯\n",
       "│ fare     │ Continuous                      │ Float64                         ⋯\n",
       "│ cabin    │ Union{Missing, Multiclass{186}} │ Union{Missing, CategoricalValue ⋯\n",
       "│ embarked │ Union{Missing, Multiclass{3}}   │ Union{Missing, CategoricalValue ⋯\n",
       "│ survived │ Multiclass{2}                   │ CategoricalValue{String, UInt32 ⋯\n",
       "└──────────┴─────────────────────────────────┴──────────────────────────────────\n",
       "\u001b[36m                                                                1 column omitted\u001b[0m\n"
      ]
     },
     "metadata": {},
     "output_type": "display_data"
    }
   ],
   "source": [
    "coerce!(df, :sibsp => Count)\n",
    "\n",
    "schema(df)"
   ]
  },
  {
   "cell_type": "markdown",
   "metadata": {},
   "source": [
    "## Train & Test Splitting"
   ]
  },
  {
   "cell_type": "code",
   "execution_count": 30,
   "metadata": {},
   "outputs": [
    {
     "name": "stdout",
     "output_type": "stream",
     "text": [
      "Training rows = 624\n",
      "Test rows = 267\n",
      "Train/test split ratio = 0.7\n"
     ]
    }
   ],
   "source": [
    "df_train, df_test = partition(df, 0.7, rng=42)\n",
    "\n",
    "println(\"Training rows = \", DF.nrow(df_train))\n",
    "println(\"Test rows = \", DF.nrow(df_test))\n",
    "println(\"Train/test split ratio = $(round(DF.nrow(df_train) / (DF.nrow(df_train) + DF.nrow(df_test)), digits=3))\")"
   ]
  },
  {
   "cell_type": "markdown",
   "metadata": {},
   "source": [
    "## Split into Variables and Target"
   ]
  },
  {
   "cell_type": "code",
   "execution_count": 31,
   "metadata": {},
   "outputs": [
    {
     "data": {
      "text/plain": [
       "(CategoricalArrays.CategoricalValue{String, UInt32}[\"0\", \"0\", \"1\", \"1\", \"0\", \"1\", \"1\", \"1\", \"1\", \"0\"  …  \"0\", \"1\", \"0\", \"0\", \"0\", \"0\", \"0\", \"0\", \"0\", \"0\"], \u001b[1m624×6 DataFrame\u001b[0m\n",
       "\u001b[1m Row \u001b[0m│\u001b[1m pclass \u001b[0m\u001b[1m sex    \u001b[0m\u001b[1m age     \u001b[0m\u001b[1m sibsp \u001b[0m\u001b[1m fare     \u001b[0m\u001b[1m embarked \u001b[0m\n",
       "     │\u001b[90m Cat…   \u001b[0m\u001b[90m Cat…   \u001b[0m\u001b[90m Float64 \u001b[0m\u001b[90m Int64 \u001b[0m\u001b[90m Float64  \u001b[0m\u001b[90m Cat…?    \u001b[0m\n",
       "─────┼────────────────────────────────────────────────────\n",
       "   1 │ 1       male       52.0      1   79.65    S\n",
       "   2 │ 1       male       31.0      1   52.0     S\n",
       "   3 │ 1       female     49.0      1   76.7292  C\n",
       "   4 │ 2       female     48.0      1   65.0     S\n",
       "   5 │ 3       male       19.0      0    8.05    S\n",
       "   6 │ 1       male       32.0      0   30.5     C\n",
       "   7 │ 1       male       36.0      0  512.329   C\n",
       "   8 │ 3       female     22.0      0    7.75    S\n",
       "  ⋮  │   ⋮       ⋮        ⋮       ⋮       ⋮         ⋮\n",
       " 618 │ 1       male       64.0      0   26.0     S\n",
       " 619 │ 1       male       46.0      0   79.2     C\n",
       " 620 │ 3       male       30.0      0    7.55    S\n",
       " 621 │ 3       male       30.0      0    7.25    S\n",
       " 622 │ 3       male       30.0      1   15.5     Q\n",
       " 623 │ 3       male       30.0      0    7.8958  S\n",
       " 624 │ 3       male       30.0      0    7.8958  S\n",
       "\u001b[36m                                          609 rows omitted\u001b[0m, Union{Missing, CategoricalArrays.CategoricalValue{String, UInt32}}[\"E67\", \"B71\", \"D33\", missing, missing, \"B50\", \"B51 B53 B55\", missing, missing, missing  …  missing, missing, \"A14\", missing, \"B82 B84\", missing, missing, missing, missing, missing])"
      ]
     },
     "metadata": {},
     "output_type": "display_data"
    }
   ],
   "source": [
    "y_train, X_train = unpack(df_train, ==(:survived), !=(:cabin))"
   ]
  },
  {
   "cell_type": "code",
   "execution_count": 32,
   "metadata": {},
   "outputs": [
    {
     "data": {
      "text/plain": [
       "┌──────────┬───────────────────────────────┬────────────────────────────────────\n",
       "│\u001b[22m names    \u001b[0m│\u001b[22m scitypes                      \u001b[0m│\u001b[22m types                            \u001b[0m ⋯\n",
       "├──────────┼───────────────────────────────┼────────────────────────────────────\n",
       "│ pclass   │ Multiclass{3}                 │ CategoricalValue{String, UInt32}  ⋯\n",
       "│ sex      │ Multiclass{2}                 │ CategoricalValue{String, UInt32}  ⋯\n",
       "│ age      │ Continuous                    │ Float64                           ⋯\n",
       "│ sibsp    │ Count                         │ Int64                             ⋯\n",
       "│ fare     │ Continuous                    │ Float64                           ⋯\n",
       "│ embarked │ Union{Missing, Multiclass{3}} │ Union{Missing, CategoricalValue{S ⋯\n",
       "└──────────┴───────────────────────────────┴────────────────────────────────────\n",
       "\u001b[36m                                                                1 column omitted\u001b[0m\n"
      ]
     },
     "metadata": {},
     "output_type": "display_data"
    }
   ],
   "source": [
    "schema(X_train)"
   ]
  },
  {
   "cell_type": "code",
   "execution_count": 33,
   "metadata": {},
   "outputs": [
    {
     "data": {
      "text/plain": [
       "AbstractVector{Multiclass{2}}\u001b[90m (alias for \u001b[39m\u001b[90mAbstractArray{Multiclass{2}, 1}\u001b[39m\u001b[90m)\u001b[39m"
      ]
     },
     "metadata": {},
     "output_type": "display_data"
    }
   ],
   "source": [
    "scitype(y_train)"
   ]
  },
  {
   "cell_type": "code",
   "execution_count": 34,
   "metadata": {},
   "outputs": [
    {
     "data": {
      "text/plain": [
       "(CategoricalArrays.CategoricalValue{String, UInt32}[\"0\", \"0\", \"0\", \"0\", \"1\", \"0\", \"0\", \"0\", \"0\", \"0\"  …  \"0\", \"0\", \"0\", \"0\", \"1\", \"0\", \"0\", \"1\", \"0\", \"1\"], \u001b[1m267×6 DataFrame\u001b[0m\n",
       "\u001b[1m Row \u001b[0m│\u001b[1m pclass \u001b[0m\u001b[1m sex    \u001b[0m\u001b[1m age     \u001b[0m\u001b[1m sibsp \u001b[0m\u001b[1m fare    \u001b[0m\u001b[1m embarked \u001b[0m\n",
       "     │\u001b[90m Cat…   \u001b[0m\u001b[90m Cat…   \u001b[0m\u001b[90m Float64 \u001b[0m\u001b[90m Int64 \u001b[0m\u001b[90m Float64 \u001b[0m\u001b[90m Cat…?    \u001b[0m\n",
       "─────┼───────────────────────────────────────────────────\n",
       "   1 │ 2       male       52.0      0  13.5     S\n",
       "   2 │ 3       male       39.0      0  24.15    S\n",
       "   3 │ 3       male       30.0      0   8.05    S\n",
       "   4 │ 3       female     39.0      1  31.275   S\n",
       "   5 │ 1       female     63.0      1  77.9583  S\n",
       "   6 │ 1       male       54.0      0  51.8625  S\n",
       "   7 │ 1       female     50.0      0  28.7125  C\n",
       "   8 │ 3       male       18.0      1   6.4958  S\n",
       "  ⋮  │   ⋮       ⋮        ⋮       ⋮       ⋮        ⋮\n",
       " 261 │ 3       male       48.0      0   7.8542  S\n",
       " 262 │ 1       female     22.0      1  66.6     S\n",
       " 263 │ 2       male       36.0      0  13.0     S\n",
       " 264 │ 3       male       30.0      0   6.95    Q\n",
       " 265 │ 1       female     30.0      0  79.2     C\n",
       " 266 │ 3       male       30.0      0   7.05    S\n",
       " 267 │ 1       female     21.0      0  77.9583  S\n",
       "\u001b[36m                                         252 rows omitted\u001b[0m, Union{Missing, CategoricalArrays.CategoricalValue{String, UInt32}}[missing, missing, missing, missing, \"D7\", \"E46\", \"C49\", missing, missing, missing  …  missing, missing, missing, missing, \"C2\", missing, missing, missing, missing, \"D9\"])"
      ]
     },
     "metadata": {},
     "output_type": "display_data"
    }
   ],
   "source": [
    "y_test, X_test = unpack(df_test, ==(:survived), !=(:cabin) )"
   ]
  },
  {
   "cell_type": "markdown",
   "metadata": {},
   "source": [
    "## Import and Construct Model"
   ]
  },
  {
   "cell_type": "code",
   "execution_count": 35,
   "metadata": {},
   "outputs": [
    {
     "name": "stdout",
     "output_type": "stream",
     "text": [
      "import BetaML"
     ]
    },
    {
     "name": "stderr",
     "output_type": "stream",
     "text": [
      "┌ Info: For silent loading, specify `verbosity=0`. \n",
      "└ @ Main C:\\Users\\luked\\.julia\\packages\\MLJModels\\EkXIe\\src\\loading.jl:159\n"
     ]
    },
    {
     "name": "stdout",
     "output_type": "stream",
     "text": [
      " ✔\n"
     ]
    },
    {
     "data": {
      "text/plain": [
       "RandomForestClassifier(\n",
       "  n_trees = 30, \n",
       "  max_depth = 5, \n",
       "  min_gain = 0.0, \n",
       "  min_records = 2, \n",
       "  max_features = 0, \n",
       "  splitting_criterion = BetaML.Utils.gini, \n",
       "  β = 0.0, \n",
       "  rng = Random._GLOBAL_RNG())"
      ]
     },
     "metadata": {},
     "output_type": "display_data"
    }
   ],
   "source": [
    "Tree = @load RandomForestClassifier pkg=BetaML\n",
    "tree = Tree(max_depth=5)"
   ]
  },
  {
   "cell_type": "markdown",
   "metadata": {},
   "source": [
    "## Train the Model"
   ]
  },
  {
   "cell_type": "code",
   "execution_count": 36,
   "metadata": {},
   "outputs": [
    {
     "data": {
      "text/plain": [
       "untrained Machine; caches model-specific representations of data\n",
       "  model: RandomForestClassifier(n_trees = 30, …)\n",
       "  args: \n",
       "    1:\tSource @447 ⏎ Table{Union{AbstractVector{Continuous}, AbstractVector{Count}, AbstractVector{Multiclass{3}}, AbstractVector{Multiclass{2}}, AbstractVector{Union{Missing, Multiclass{3}}}}}\n",
       "    2:\tSource @337 ⏎ AbstractVector{Multiclass{2}}\n"
      ]
     },
     "metadata": {},
     "output_type": "display_data"
    }
   ],
   "source": [
    "mach = machine(tree, X_train, y_train)"
   ]
  },
  {
   "cell_type": "code",
   "execution_count": 37,
   "metadata": {},
   "outputs": [
    {
     "name": "stderr",
     "output_type": "stream",
     "text": [
      "┌ Info: Training machine(RandomForestClassifier(n_trees = 30, …), …).\n",
      "└ @ MLJBase C:\\Users\\luked\\.julia\\packages\\MLJBase\\fEiP2\\src\\machines.jl:492\n"
     ]
    },
    {
     "data": {
      "text/plain": [
       "trained Machine; caches model-specific representations of data\n",
       "  model: RandomForestClassifier(n_trees = 30, …)\n",
       "  args: \n",
       "    1:\tSource @447 ⏎ Table{Union{AbstractVector{Continuous}, AbstractVector{Count}, AbstractVector{Multiclass{3}}, AbstractVector{Multiclass{2}}, AbstractVector{Union{Missing, Multiclass{3}}}}}\n",
       "    2:\tSource @337 ⏎ AbstractVector{Multiclass{2}}\n"
      ]
     },
     "metadata": {},
     "output_type": "display_data"
    }
   ],
   "source": [
    "fit!(mach)"
   ]
  },
  {
   "cell_type": "code",
   "execution_count": 38,
   "metadata": {},
   "outputs": [
    {
     "data": {
      "text/plain": [
       "267-element CategoricalDistributions.UnivariateFiniteVector{Multiclass{2}, String, UInt32, Float64}:\n",
       " UnivariateFinite{Multiclass{2}}(0=>0.766, 1=>0.234)\n",
       " UnivariateFinite{Multiclass{2}}(0=>0.835, 1=>0.165)\n",
       " UnivariateFinite{Multiclass{2}}(0=>0.856, 1=>0.144)\n",
       " UnivariateFinite{Multiclass{2}}(0=>0.655, 1=>0.345)\n",
       " UnivariateFinite{Multiclass{2}}(0=>0.276, 1=>0.724)\n",
       " UnivariateFinite{Multiclass{2}}(0=>0.619, 1=>0.381)\n",
       " UnivariateFinite{Multiclass{2}}(0=>0.12, 1=>0.88)\n",
       " UnivariateFinite{Multiclass{2}}(0=>0.846, 1=>0.154)\n",
       " UnivariateFinite{Multiclass{2}}(0=>0.704, 1=>0.296)\n",
       " UnivariateFinite{Multiclass{2}}(0=>0.822, 1=>0.178)\n",
       " ⋮\n",
       " UnivariateFinite{Multiclass{2}}(0=>0.641, 1=>0.359)\n",
       " UnivariateFinite{Multiclass{2}}(0=>0.874, 1=>0.126)\n",
       " UnivariateFinite{Multiclass{2}}(0=>0.848, 1=>0.152)\n",
       " UnivariateFinite{Multiclass{2}}(0=>0.175, 1=>0.825)\n",
       " UnivariateFinite{Multiclass{2}}(0=>0.782, 1=>0.218)\n",
       " UnivariateFinite{Multiclass{2}}(0=>0.809, 1=>0.191)\n",
       " UnivariateFinite{Multiclass{2}}(0=>0.0825, 1=>0.917)\n",
       " UnivariateFinite{Multiclass{2}}(0=>0.863, 1=>0.137)\n",
       " UnivariateFinite{Multiclass{2}}(0=>0.153, 1=>0.847)"
      ]
     },
     "metadata": {},
     "output_type": "display_data"
    }
   ],
   "source": [
    "p_train = predict(mach, X_train)\n",
    "p_test = predict(mach, X_test)"
   ]
  },
  {
   "cell_type": "markdown",
   "metadata": {},
   "source": [
    "### View prediction outputs in detail"
   ]
  },
  {
   "cell_type": "code",
   "execution_count": 39,
   "metadata": {},
   "outputs": [
    {
     "data": {
      "text/plain": [
       "UnivariateFinite{Multiclass{2}}(0=>0.562, 1=>0.438)"
      ]
     },
     "metadata": {},
     "output_type": "display_data"
    }
   ],
   "source": [
    "p_train[6]"
   ]
  },
  {
   "cell_type": "code",
   "execution_count": 40,
   "metadata": {},
   "outputs": [
    {
     "data": {
      "text/plain": [
       "UnivariateFinite{Multiclass{2}}(0=>0.619, 1=>0.381)"
      ]
     },
     "metadata": {},
     "output_type": "display_data"
    }
   ],
   "source": [
    "p_test[6]"
   ]
  },
  {
   "cell_type": "code",
   "execution_count": 41,
   "metadata": {},
   "outputs": [
    {
     "data": {
      "text/plain": [
       "0.43795473662639856"
      ]
     },
     "metadata": {},
     "output_type": "display_data"
    }
   ],
   "source": [
    "pdf(p_train[6], \"1\")"
   ]
  },
  {
   "cell_type": "code",
   "execution_count": 42,
   "metadata": {},
   "outputs": [
    {
     "data": {
      "text/plain": [
       "267-element CategoricalArrays.CategoricalArray{String,1,UInt32}:\n",
       " \"0\"\n",
       " \"0\"\n",
       " \"0\"\n",
       " \"0\"\n",
       " \"1\"\n",
       " \"0\"\n",
       " \"1\"\n",
       " \"0\"\n",
       " \"0\"\n",
       " \"0\"\n",
       " ⋮\n",
       " \"0\"\n",
       " \"0\"\n",
       " \"0\"\n",
       " \"1\"\n",
       " \"0\"\n",
       " \"0\"\n",
       " \"1\"\n",
       " \"0\"\n",
       " \"1\""
      ]
     },
     "metadata": {},
     "output_type": "display_data"
    }
   ],
   "source": [
    "yhat_train = mode.(p_train)\n",
    "yhat_test = mode.(p_test)"
   ]
  },
  {
   "cell_type": "code",
   "execution_count": 43,
   "metadata": {},
   "outputs": [
    {
     "data": {
      "text/plain": [
       "3-element CategoricalArrays.CategoricalArray{String,1,UInt32}:\n",
       " \"1\"\n",
       " \"1\"\n",
       " \"0\""
      ]
     },
     "metadata": {},
     "output_type": "display_data"
    }
   ],
   "source": [
    "yhat_train[3:5]\n",
    "#yhat_test[3:5]"
   ]
  },
  {
   "cell_type": "markdown",
   "metadata": {},
   "source": [
    "## Evaluating Model Performance"
   ]
  },
  {
   "cell_type": "code",
   "execution_count": 44,
   "metadata": {},
   "outputs": [
    {
     "data": {
      "text/plain": [
       "0.8349358974358975"
      ]
     },
     "metadata": {},
     "output_type": "display_data"
    }
   ],
   "source": [
    "accuracy(yhat_train, y_train)"
   ]
  },
  {
   "cell_type": "code",
   "execution_count": 45,
   "metadata": {},
   "outputs": [
    {
     "data": {
      "text/plain": [
       "0.8239700374531835"
      ]
     },
     "metadata": {},
     "output_type": "display_data"
    }
   ],
   "source": [
    "accuracy(yhat_test, y_test)"
   ]
  },
  {
   "cell_type": "markdown",
   "metadata": {},
   "source": [
    "## Tune Hyperparameters"
   ]
  },
  {
   "cell_type": "code",
   "execution_count": 46,
   "metadata": {},
   "outputs": [
    {
     "data": {
      "text/plain": [
       "NumericRange(0 ≤ max_depth ≤ 10; origin=5.0, unit=5.0)"
      ]
     },
     "metadata": {},
     "output_type": "display_data"
    }
   ],
   "source": [
    "r = range(tree, :max_depth, lower=0, upper=10)"
   ]
  },
  {
   "cell_type": "code",
   "execution_count": 47,
   "metadata": {},
   "outputs": [
    {
     "data": {
      "text/plain": [
       "ProbabilisticTunedModel(\n",
       "  model = RandomForestClassifier(\n",
       "        n_trees = 30, \n",
       "        max_depth = 5, \n",
       "        min_gain = 0.0, \n",
       "        min_records = 2, \n",
       "        max_features = 0, \n",
       "        splitting_criterion = BetaML.Utils.gini, \n",
       "        β = 0.0, \n",
       "        rng = Random._GLOBAL_RNG()), \n",
       "  tuning = Grid(\n",
       "        goal = nothing, \n",
       "        resolution = 10, \n",
       "        shuffle = true, \n",
       "        rng = Random._GLOBAL_RNG()), \n",
       "  resampling = Holdout(\n",
       "        fraction_train = 0.7, \n",
       "        shuffle = false, \n",
       "        rng = Random._GLOBAL_RNG()), \n",
       "  measure = Accuracy(), \n",
       "  weights = nothing, \n",
       "  class_weights = nothing, \n",
       "  operation = nothing, \n",
       "  range = NumericRange(0 ≤ max_depth ≤ 10; origin=5.0, unit=5.0), \n",
       "  selection_heuristic = MLJTuning.NaiveSelection(nothing), \n",
       "  train_best = true, \n",
       "  repeats = 1, \n",
       "  n = nothing, \n",
       "  acceleration = CPU1{Nothing}(nothing), \n",
       "  acceleration_resampling = CPU1{Nothing}(nothing), \n",
       "  check_measure = true, \n",
       "  cache = true)"
      ]
     },
     "metadata": {},
     "output_type": "display_data"
    }
   ],
   "source": [
    "tuned_tree = TunedModel(\n",
    "    tree,\n",
    "    tuning=Grid(),\n",
    "    range=r,\n",
    "    measure=accuracy,\n",
    "    resampling=Holdout(fraction_train=0.7)\n",
    ")"
   ]
  },
  {
   "cell_type": "code",
   "execution_count": 48,
   "metadata": {},
   "outputs": [
    {
     "name": "stderr",
     "output_type": "stream",
     "text": [
      "┌ Info: Training machine(ProbabilisticTunedModel(model = RandomForestClassifier(n_trees = 30, …), …), …).\n",
      "└ @ MLJBase C:\\Users\\luked\\.julia\\packages\\MLJBase\\fEiP2\\src\\machines.jl:492\n"
     ]
    },
    {
     "name": "stderr",
     "output_type": "stream",
     "text": [
      "┌ Info: Attempting to evaluate 10 models.\n",
      "└ @ MLJTuning C:\\Users\\luked\\.julia\\packages\\MLJTuning\\nZnsJ\\src\\tuned_models.jl:727\n"
     ]
    },
    {
     "name": "stderr",
     "output_type": "stream",
     "text": [
      "\r\u001b[33mEvaluating over 10 metamodels:  20%[=====>                   ]  ETA: 0:00:17\u001b[39m\u001b[K"
     ]
    },
    {
     "name": "stderr",
     "output_type": "stream",
     "text": [
      "\r\u001b[33mEvaluating over 10 metamodels:  40%[==========>              ]  ETA: 0:00:07\u001b[39m\u001b[K"
     ]
    },
    {
     "name": "stderr",
     "output_type": "stream",
     "text": [
      "\r\u001b[33mEvaluating over 10 metamodels:  50%[============>            ]  ETA: 0:00:05\u001b[39m\u001b[K"
     ]
    },
    {
     "name": "stderr",
     "output_type": "stream",
     "text": [
      "\r\u001b[33mEvaluating over 10 metamodels:  60%[===============>         ]  ETA: 0:00:03\u001b[39m\u001b[K"
     ]
    },
    {
     "name": "stderr",
     "output_type": "stream",
     "text": [
      "\r\u001b[33mEvaluating over 10 metamodels:  70%[=================>       ]  ETA: 0:00:02\u001b[39m\u001b[K"
     ]
    },
    {
     "name": "stderr",
     "output_type": "stream",
     "text": [
      "\r\u001b[33mEvaluating over 10 metamodels:  80%[====================>    ]  ETA: 0:00:01\u001b[39m\u001b[K"
     ]
    },
    {
     "name": "stderr",
     "output_type": "stream",
     "text": [
      "\r\u001b[33mEvaluating over 10 metamodels:  90%[======================>  ]  ETA: 0:00:01\u001b[39m\u001b[K"
     ]
    },
    {
     "name": "stderr",
     "output_type": "stream",
     "text": [
      "\r"
     ]
    },
    {
     "name": "stderr",
     "output_type": "stream",
     "text": [
      "\u001b[33mEvaluating over 10 metamodels: 100%[=========================] Time: 0:00:05\u001b[39m\u001b[K\n"
     ]
    },
    {
     "data": {
      "text/plain": [
       "trained Machine; does not cache data\n",
       "  model: ProbabilisticTunedModel(model = RandomForestClassifier(n_trees = 30, …), …)\n",
       "  args: \n",
       "    1:\tSource @815 ⏎ Table{Union{AbstractVector{Continuous}, AbstractVector{Count}, AbstractVector{Multiclass{3}}, AbstractVector{Multiclass{2}}, AbstractVector{Union{Missing, Multiclass{3}}}}}\n",
       "    2:\tSource @949 ⏎ AbstractVector{Multiclass{2}}\n"
      ]
     },
     "metadata": {},
     "output_type": "display_data"
    }
   ],
   "source": [
    "mach2 = machine(tuned_tree, X_train, y_train)\n",
    "fit!(mach2)"
   ]
  },
  {
   "cell_type": "code",
   "execution_count": 49,
   "metadata": {},
   "outputs": [
    {
     "data": {
      "text/plain": [
       "RandomForestClassifier(\n",
       "  n_trees = 30, \n",
       "  max_depth = 10, \n",
       "  min_gain = 0.0, \n",
       "  min_records = 2, \n",
       "  max_features = 0, \n",
       "  splitting_criterion = BetaML.Utils.gini, \n",
       "  β = 0.0, \n",
       "  rng = Random._GLOBAL_RNG())"
      ]
     },
     "metadata": {},
     "output_type": "display_data"
    }
   ],
   "source": [
    "fitted_params(mach2).best_model"
   ]
  },
  {
   "cell_type": "markdown",
   "metadata": {},
   "source": [
    "## Final Model"
   ]
  },
  {
   "cell_type": "code",
   "execution_count": 50,
   "metadata": {},
   "outputs": [
    {
     "data": {
      "text/plain": [
       "0.8389513108614233"
      ]
     },
     "metadata": {},
     "output_type": "display_data"
    }
   ],
   "source": [
    "yhat_test_2 = mode.(predict(mach2, X_test))\n",
    "accuracy(yhat_test_2, y_test)"
   ]
  },
  {
   "cell_type": "code",
   "execution_count": 51,
   "metadata": {},
   "outputs": [],
   "source": []
  }
 ],
 "metadata": {
  "kernelspec": {
   "display_name": "Julia 1.9.3",
   "language": "julia",
   "name": "julia-1.9"
  },
  "language_info": {
   "file_extension": ".jl",
   "mimetype": "application/julia",
   "name": "julia",
   "version": "1.9.3"
  },
  "orig_nbformat": 4
 },
 "nbformat": 4,
 "nbformat_minor": 2
}
