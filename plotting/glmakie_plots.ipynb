{
 "cells": [
  {
   "cell_type": "code",
   "execution_count": 1,
   "metadata": {},
   "outputs": [
    {
     "name": "stderr",
     "output_type": "stream",
     "text": [
      "\u001b[32m\u001b[1m  Activating\u001b[22m\u001b[39m project at `C:\\Users\\luked\\.julia\\environments\\plotting`\n"
     ]
    }
   ],
   "source": [
    "using Pkg\n",
    "Pkg.activate(\"plotting\", shared=true)"
   ]
  },
  {
   "cell_type": "code",
   "execution_count": 2,
   "metadata": {},
   "outputs": [],
   "source": [
    "using GLMakie"
   ]
  },
  {
   "cell_type": "markdown",
   "metadata": {},
   "source": [
    "## Observables"
   ]
  },
  {
   "cell_type": "code",
   "execution_count": 3,
   "metadata": {},
   "outputs": [
    {
     "data": {
      "text/plain": [
       "Observable(2.0)\n"
      ]
     },
     "metadata": {},
     "output_type": "display_data"
    }
   ],
   "source": [
    "# Create 2 observables which, if you look in the workspaces, can have 'listeners' and 'inputs'\n",
    "x = Observable(1.0)\n",
    "y = Observable(2.0)"
   ]
  },
  {
   "cell_type": "code",
   "execution_count": 4,
   "metadata": {},
   "outputs": [
    {
     "data": {
      "text/plain": [
       "Observable(3.0)\n"
      ]
     },
     "metadata": {},
     "output_type": "display_data"
    }
   ],
   "source": [
    "# z is now a 'listener' of both x and y.\n",
    "z = @lift($x .+ $y)"
   ]
  },
  {
   "cell_type": "code",
   "execution_count": 5,
   "metadata": {},
   "outputs": [
    {
     "data": {
      "text/plain": [
       "Observable(12.0)\n"
      ]
     },
     "metadata": {},
     "output_type": "display_data"
    }
   ],
   "source": [
    "# Updating x now changes the value of z automatically.\n",
    "x[] = 10.0\n",
    "z"
   ]
  },
  {
   "cell_type": "code",
   "execution_count": 6,
   "metadata": {},
   "outputs": [
    {
     "data": {
      "text/plain": [
       "Observable(30.0)\n"
      ]
     },
     "metadata": {},
     "output_type": "display_data"
    }
   ],
   "source": [
    "# Same thing for changing y\n",
    "y[] = 20.0\n",
    "z"
   ]
  },
  {
   "cell_type": "markdown",
   "metadata": {},
   "source": [
    "## Sliders, Buttons and Menus"
   ]
  },
  {
   "cell_type": "markdown",
   "metadata": {},
   "source": [
    "### Sliders"
   ]
  },
  {
   "cell_type": "code",
   "execution_count": 7,
   "metadata": {},
   "outputs": [],
   "source": [
    "#Create figure to work in\n",
    "fig = Figure(resolution = (1920, 1080))"
   ]
  },
  {
   "cell_type": "code",
   "execution_count": 8,
   "metadata": {},
   "outputs": [
    {
     "data": {
      "text/plain": [
       "Axis with 0 plots:\n"
      ]
     },
     "metadata": {},
     "output_type": "display_data"
    }
   ],
   "source": [
    "#Create a new axis that holds a 20,20 grid with a given title and specific axis variables.\n",
    "ax1 = fig[1, 1] = Axis(fig,\n",
    "                       # borders\n",
    "                       aspect = 1, limits = (-10, 10, -10, 10),\n",
    "                       # title\n",
    "                       title = \"Sliders Tutorial\",\n",
    "                       titlegap = 48, titlesize = 60,\n",
    "                       # x-axis\n",
    "                       xautolimitmargin = (0, 0), xgridwidth = 2, xticklabelsize = 27,\n",
    "                       xticks = LinearTicks(20), xticksize = 18,\n",
    "                       # y-axis\n",
    "                       yautolimitmargin = (0, 0), ygridwidth = 2, yticklabelpad = 14,\n",
    "                       yticklabelsize = 27, yticks = LinearTicks(20), yticksize = 18\n",
    "                       )"
   ]
  },
  {
   "cell_type": "code",
   "execution_count": 9,
   "metadata": {},
   "outputs": [
    {
     "data": {
      "text/plain": [
       "Combined{Makie.hlines, Tuple{Vector{Int64}}}"
      ]
     },
     "metadata": {},
     "output_type": "display_data"
    }
   ],
   "source": [
    "# Darken axes\n",
    "vlines!(ax1, [0], linewidth=2)\n",
    "hlines!(ax1, [0], linewidth=2)"
   ]
  },
  {
   "cell_type": "code",
   "execution_count": 12,
   "metadata": {},
   "outputs": [
    {
     "data": {
      "text/plain": [
       "SliderGrid()"
      ]
     },
     "metadata": {},
     "output_type": "display_data"
    }
   ],
   "source": [
    "# Create 2 sliders\n",
    "sgrid = SliderGrid(fig[2, 1],\n",
    "                   (label=\"Slope\", range=-10:0.01:10, format=x -> \"$(round(x, digits = 2))\", startvalue=0),\n",
    "                   (label=\"y-intercept\", range=-10:0.01:10, format=x -> \"$(round(x, digits = 2))\", startvalue=0))"
   ]
  },
  {
   "cell_type": "code",
   "execution_count": 13,
   "metadata": {},
   "outputs": [
    {
     "data": {
      "text/plain": [
       "GridLayout[1:2, 1:3] with 6 children\n",
       " ┣━ [1, 1] Label\n",
       " ┣━ [1, 2] Slider\n",
       " ┣━ [1, 3] Label\n",
       " ┣━ [2, 1] Label\n",
       " ┣━ [2, 2] Slider\n",
       " ┗━ [2, 3] Label\n"
      ]
     },
     "metadata": {},
     "output_type": "display_data"
    }
   ],
   "source": [
    "# Format slider layout\n",
    "s_sublayout = GridLayout(height = 150)\n",
    "fig[2, 1] = s_sublayout\n",
    "fig[2, 1] = sgrid.layout"
   ]
  },
  {
   "cell_type": "code",
   "execution_count": 14,
   "metadata": {},
   "outputs": [
    {
     "data": {
      "text/plain": [
       "Lines{Tuple{Vector{Point{2, Float32}}}}"
      ]
     },
     "metadata": {},
     "output_type": "display_data"
    }
   ],
   "source": [
    "# Create listeners and line to plot\n",
    "slope = sgrid.sliders[1].value\n",
    "intercept = sgrid.sliders[2].value\n",
    "\n",
    "x = -10:0.01:10\n",
    "y = @lift($slope .* x .+ $intercept)\n",
    "\n",
    "line1 = lines!(ax1, x, y, color=:blue, linewidth=5)"
   ]
  },
  {
   "cell_type": "code",
   "execution_count": 15,
   "metadata": {},
   "outputs": [
    {
     "data": {
      "text/plain": [
       "Scatter{Tuple{Vector{Point{2, Float32}}}}"
      ]
     },
     "metadata": {},
     "output_type": "display_data"
    }
   ],
   "source": [
    "#Add scatter plot\n",
    "rx = -10:0.5:10\n",
    "ry = rand(length(rx)) .+ -rx * 0.5 .+ 3\n",
    "scatter1 = scatter!(ax1, rx, ry, color=:red, markersize=15)"
   ]
  },
  {
   "cell_type": "markdown",
   "metadata": {},
   "source": [
    "### Buttons"
   ]
  },
  {
   "cell_type": "code",
   "execution_count": 16,
   "metadata": {},
   "outputs": [],
   "source": [
    "#Create figure to work in\n",
    "fig = Figure(resolution = (1920, 1080))"
   ]
  },
  {
   "cell_type": "code",
   "execution_count": 18,
   "metadata": {},
   "outputs": [
    {
     "data": {
      "text/plain": [
       "Axis with 0 plots:\n"
      ]
     },
     "metadata": {},
     "output_type": "display_data"
    }
   ],
   "source": [
    "#add axis\n",
    "ax1 = fig[1, 1] = Axis(fig,\n",
    "    # borders\n",
    "    aspect = 1, limits = (-10, 10, -10, 10),\n",
    "    # title\n",
    "    title = \"Buttons Tutorial\",\n",
    "    titlegap = 48, titlesize = 60,\n",
    "    # x-axis\n",
    "    xautolimitmargin = (0, 0), xgridwidth = 2, xticklabelsize = 36,\n",
    "    xticks = LinearTicks(20), xticksize = 18,\n",
    "    # y-axis\n",
    "    yautolimitmargin = (0, 0), ygridwidth = 2, yticklabelpad = 14,\n",
    "    yticklabelsize = 36, yticks = LinearTicks(20), yticksize = 18\n",
    ")"
   ]
  },
  {
   "cell_type": "code",
   "execution_count": 19,
   "metadata": {},
   "outputs": [
    {
     "data": {
      "text/plain": [
       "Combined{Makie.hlines, Tuple{Vector{Int64}}}"
      ]
     },
     "metadata": {},
     "output_type": "display_data"
    }
   ],
   "source": [
    "# darken axes\n",
    "\n",
    "vlines!(ax1, [0], linewidth = 2)\n",
    "hlines!(ax1, [0], linewidth = 2)"
   ]
  },
  {
   "cell_type": "code",
   "execution_count": 21,
   "metadata": {},
   "outputs": [
    {
     "data": {
      "text/plain": [
       "5-element Vector{Button}:\n",
       " Button()\n",
       " Button()\n",
       " Button()\n",
       " Button()\n",
       " Button()"
      ]
     },
     "metadata": {},
     "output_type": "display_data"
    }
   ],
   "source": [
    "# create button grid\n",
    "\n",
    "fig[2, 1] = buttongrid = GridLayout(tellwidth = false)\n",
    "\n",
    "labels = [\"Red-8\", \"Magenta-12\", \"Green-18\", \"Cyan-24\", \"Blue-30\"]\n",
    "\n",
    "buttons = buttongrid[1, 1:5] = [\n",
    "    Button(fig,\n",
    "        label = l, height = 60, width = 250, fontsize = 30\n",
    "    )\n",
    "    for l in labels\n",
    "]"
   ]
  },
  {
   "cell_type": "code",
   "execution_count": 22,
   "metadata": {},
   "outputs": [
    {
     "data": {
      "text/plain": [
       "GridLayout[1:1, 1:1] with 0 children\n"
      ]
     },
     "metadata": {},
     "output_type": "display_data"
    }
   ],
   "source": [
    "# layout buttons\n",
    "\n",
    "bt_sublayout = GridLayout(height = 150)\n",
    "fig[2, 1] = bt_sublayout"
   ]
  },
  {
   "cell_type": "code",
   "execution_count": 23,
   "metadata": {},
   "outputs": [
    {
     "data": {
      "text/plain": [
       "Observable([-6.6, -5.3, 2.6, -7.4, -5.4, -8.4, 3.6, 0.2, -7.1, -4.2  …  4.8, 8.8, 5.1, 2.3, -2.7, 1.5, 8.2, 1.0, 6.9, 6.7])\n"
      ]
     },
     "metadata": {},
     "output_type": "display_data"
    }
   ],
   "source": [
    "# create random data sets\n",
    "\n",
    "x = -10:0.1:10\n",
    "\n",
    "data = []\n",
    "\n",
    "for i in 1:5\n",
    "    d = rand(-10:0.1:10, length(x))\n",
    "    push!(data, d)\n",
    "end\n",
    "\n",
    "y = Observable(data[1])"
   ]
  },
  {
   "cell_type": "code",
   "execution_count": 28,
   "metadata": {},
   "outputs": [
    {
     "data": {
      "text/plain": [
       "Observable(:red)\n"
      ]
     },
     "metadata": {},
     "output_type": "display_data"
    }
   ],
   "source": [
    "# set up colors\n",
    "\n",
    "colors = [:red, :magenta, :green, :cyan, :blue]\n",
    "\n",
    "c = Observable(colors[1])"
   ]
  },
  {
   "cell_type": "code",
   "execution_count": 29,
   "metadata": {},
   "outputs": [
    {
     "data": {
      "text/plain": [
       "Observable(8)\n"
      ]
     },
     "metadata": {},
     "output_type": "display_data"
    }
   ],
   "source": [
    "# set up markersizes\n",
    "\n",
    "markersizes = [8, 12, 18, 24, 30]\n",
    "\n",
    "ms = Observable(markersizes[1])"
   ]
  },
  {
   "cell_type": "code",
   "execution_count": 30,
   "metadata": {},
   "outputs": [
    {
     "data": {
      "text/plain": [
       "Scatter{Tuple{Vector{Point{2, Float32}}}}"
      ]
     },
     "metadata": {},
     "output_type": "display_data"
    }
   ],
   "source": [
    "# add scatter plot\n",
    "\n",
    "scat1 = scatter!(ax1, x, y, color = c, markersize = ms)"
   ]
  },
  {
   "cell_type": "code",
   "execution_count": 31,
   "metadata": {},
   "outputs": [],
   "source": [
    "# button instructions\n",
    "\n",
    "for i in 1:5\n",
    "    on(buttons[i].clicks) do click\n",
    "        y[] = data[i]\n",
    "        c[] = colors[i]\n",
    "        ms[] = markersizes[i]\n",
    "    end\n",
    "end"
   ]
  },
  {
   "cell_type": "markdown",
   "metadata": {},
   "source": [
    "### Menus"
   ]
  },
  {
   "cell_type": "code",
   "execution_count": 32,
   "metadata": {},
   "outputs": [],
   "source": [
    "# initialize plot\n",
    "\n",
    "fig = Figure(resolution = (1920, 1080))"
   ]
  },
  {
   "cell_type": "code",
   "execution_count": 33,
   "metadata": {},
   "outputs": [
    {
     "data": {
      "text/plain": [
       "Axis with 0 plots:\n"
      ]
     },
     "metadata": {},
     "output_type": "display_data"
    }
   ],
   "source": [
    "# add axis\n",
    "\n",
    "ax1 = fig[1, 1] = Axis(fig,\n",
    "    # borders\n",
    "    aspect = 1, limits = (-10, 10, -10, 10),\n",
    "    # title\n",
    "    title = \"Multiverse Tutorial\",\n",
    "    titlegap = 48, titlesize = 60,\n",
    "    # x-axis\n",
    "    xautolimitmargin = (0, 0), xgridwidth = 2, xticklabelsize = 36,\n",
    "    xticks = LinearTicks(20), xticksize = 18,\n",
    "    # y-axis\n",
    "    yautolimitmargin = (0, 0), ygridwidth = 2, yticklabelpad = 14,\n",
    "    yticklabelsize = 36, yticks = LinearTicks(20), yticksize = 18,\n",
    "    # background color\n",
    "    backgroundcolor = :black\n",
    ")"
   ]
  },
  {
   "cell_type": "code",
   "execution_count": 34,
   "metadata": {},
   "outputs": [
    {
     "data": {
      "text/plain": [
       "8-element Vector{Symbol}:\n",
       " :white\n",
       " :red\n",
       " :green\n",
       " :blue\n",
       " :cyan\n",
       " :yellow\n",
       " :magenta\n",
       " :black"
      ]
     },
     "metadata": {},
     "output_type": "display_data"
    }
   ],
   "source": [
    "# set up colors\n",
    "\n",
    "colors = [:white, :red, :green, :blue, :cyan, :yellow, :magenta, :black]"
   ]
  },
  {
   "cell_type": "code",
   "execution_count": 35,
   "metadata": {},
   "outputs": [
    {
     "data": {
      "text/plain": [
       "14-element Vector{Int64}:\n",
       "  6\n",
       "  8\n",
       " 10\n",
       " 12\n",
       " 14\n",
       " 18\n",
       " 24\n",
       " 30\n",
       " 36\n",
       " 42\n",
       " 60\n",
       " 72\n",
       " 84\n",
       " 96"
      ]
     },
     "metadata": {},
     "output_type": "display_data"
    }
   ],
   "source": [
    "# set up markersizes\n",
    "\n",
    "markersizes = [6, 8, 10, 12, 14, 18, 24, 30, 36, 42, 60, 72, 84, 96]"
   ]
  },
  {
   "cell_type": "code",
   "execution_count": 37,
   "metadata": {},
   "outputs": [
    {
     "data": {
      "text/plain": [
       "Menu()"
      ]
     },
     "metadata": {},
     "output_type": "display_data"
    }
   ],
   "source": [
    "# create menus\n",
    "\n",
    "datamenu = Menu(fig, options = [1, 2, 3, 4, 5], fontsize = 30)\n",
    "colormenu = Menu(fig, options = colors, fontsize = 30)\n",
    "msmenu = Menu(fig, options = markersizes, fontsize = 30)"
   ]
  },
  {
   "cell_type": "code",
   "execution_count": 39,
   "metadata": {},
   "outputs": [
    {
     "data": {
      "text/plain": [
       "GridLayout[1:6, 1:1] with 6 children\n",
       " ┣━ [1, 1] Label\n",
       " ┣━ [2, 1] Menu\n",
       " ┣━ [3, 1] Label\n",
       " ┣━ [4, 1] Menu\n",
       " ┣━ [5, 1] Label\n",
       " ┗━ [6, 1] Menu\n"
      ]
     },
     "metadata": {},
     "output_type": "display_data"
    }
   ],
   "source": [
    "fig[1, 2] = vgrid!(\n",
    "    Label(fig, \"Universe:\", fontsize = 30, width = 400), datamenu,\n",
    "    Label(fig, \"Color:\", fontsize = 30, width = 400), colormenu,\n",
    "    Label(fig, \"Markersize:\", fontsize = 30, width = 400), msmenu;\n",
    "    tellheight = false, width = 500\n",
    ")"
   ]
  },
  {
   "cell_type": "code",
   "execution_count": 40,
   "metadata": {},
   "outputs": [
    {
     "data": {
      "text/plain": [
       "Observable(6)\n"
      ]
     },
     "metadata": {},
     "output_type": "display_data"
    }
   ],
   "source": [
    "# initialize plotting variables\n",
    "\n",
    "x = -10:0.1:10\n",
    "y = Observable(data[1])\n",
    "c = Observable(colors[1])\n",
    "ms = Observable(markersizes[1])"
   ]
  },
  {
   "cell_type": "code",
   "execution_count": 41,
   "metadata": {},
   "outputs": [
    {
     "data": {
      "text/plain": [
       "Scatter{Tuple{Vector{Point{2, Float32}}}}"
      ]
     },
     "metadata": {},
     "output_type": "display_data"
    }
   ],
   "source": [
    "# add scatter plot\n",
    "\n",
    "scat1 = scatter!(ax1, x, y, color = c, markersize = ms)"
   ]
  },
  {
   "cell_type": "markdown",
   "metadata": {},
   "source": [
    "#### Menu Instructions"
   ]
  },
  {
   "cell_type": "code",
   "execution_count": 44,
   "metadata": {},
   "outputs": [
    {
     "data": {
      "text/plain": [
       "ObserverFunction defined at d:\\GitHub\\julia-l-and-d\\plotting\\glmakie_plots.ipynb:16 operating on Observable{Any}(36)"
      ]
     },
     "metadata": {},
     "output_type": "display_data"
    }
   ],
   "source": [
    "# for data\n",
    "\n",
    "on(datamenu.selection) do select\n",
    "    y[] = data[select]\n",
    "end\n",
    "\n",
    "# for color\n",
    "\n",
    "on(colormenu.selection) do select\n",
    "    c[] = select\n",
    "end\n",
    "\n",
    "# for markersize\n",
    "\n",
    "on(msmenu.selection) do select\n",
    "    ms[] = select\n",
    "end"
   ]
  }
 ],
 "metadata": {
  "kernelspec": {
   "display_name": "Julia 1.9.3",
   "language": "julia",
   "name": "julia-1.9"
  },
  "language_info": {
   "file_extension": ".jl",
   "mimetype": "application/julia",
   "name": "julia",
   "version": "1.9.3"
  },
  "orig_nbformat": 4
 },
 "nbformat": 4,
 "nbformat_minor": 2
}
